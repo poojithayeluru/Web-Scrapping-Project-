{
 "cells": [
  {
   "cell_type": "code",
   "execution_count": 34,
   "id": "f183e6f8",
   "metadata": {},
   "outputs": [],
   "source": [
    "import pandas as pd\n",
    "import numpy as np\n",
    "import matplotlib.pyplot as plt\n",
    "import seaborn as sns\n",
    "from collections import Counter"
   ]
  },
  {
   "cell_type": "markdown",
   "id": "4663bd09",
   "metadata": {},
   "source": [
    "# Importing data from the excel"
   ]
  },
  {
   "cell_type": "code",
   "execution_count": 250,
   "id": "36514fed",
   "metadata": {},
   "outputs": [],
   "source": [
    "data=pd.read_csv(\"startup.csv\")"
   ]
  },
  {
   "cell_type": "code",
   "execution_count": 251,
   "id": "aaa34eac",
   "metadata": {},
   "outputs": [
    {
     "data": {
      "text/html": [
       "<div>\n",
       "<style scoped>\n",
       "    .dataframe tbody tr th:only-of-type {\n",
       "        vertical-align: middle;\n",
       "    }\n",
       "\n",
       "    .dataframe tbody tr th {\n",
       "        vertical-align: top;\n",
       "    }\n",
       "\n",
       "    .dataframe thead th {\n",
       "        text-align: right;\n",
       "    }\n",
       "</style>\n",
       "<table border=\"1\" class=\"dataframe\">\n",
       "  <thead>\n",
       "    <tr style=\"text-align: right;\">\n",
       "      <th></th>\n",
       "      <th>Unnamed: 0</th>\n",
       "      <th>Company</th>\n",
       "      <th>Cities</th>\n",
       "      <th>Year of starting</th>\n",
       "      <th>FOUNDERS</th>\n",
       "      <th>Industries</th>\n",
       "      <th>Funding amount</th>\n",
       "      <th>Funding rounds</th>\n",
       "      <th>No of employees</th>\n",
       "      <th>No of investors</th>\n",
       "    </tr>\n",
       "  </thead>\n",
       "  <tbody>\n",
       "    <tr>\n",
       "      <th>0</th>\n",
       "      <td>0</td>\n",
       "      <td>) Urban Company</td>\n",
       "      <td>Gurgaon</td>\n",
       "      <td>2014</td>\n",
       "      <td>Abhiraj Singh Bhal, Raghav Chandra, Varun Khaitan</td>\n",
       "      <td>Apps</td>\n",
       "      <td>445,920,356</td>\n",
       "      <td>Number of funding rounds: 12</td>\n",
       "      <td>1001-5000</td>\n",
       "      <td>Number of investors: 16</td>\n",
       "    </tr>\n",
       "    <tr>\n",
       "      <th>1</th>\n",
       "      <td>1</td>\n",
       "      <td>) Classplus</td>\n",
       "      <td>Noida</td>\n",
       "      <td>2018</td>\n",
       "      <td>Bhaswat Agarwal, Bikash Dash, Mukul Rustagi, N...</td>\n",
       "      <td>B2B</td>\n",
       "      <td>89,506,451</td>\n",
       "      <td>Number of funding rounds: 10</td>\n",
       "      <td>101-250</td>\n",
       "      <td>Number of investors: 20</td>\n",
       "    </tr>\n",
       "    <tr>\n",
       "      <th>2</th>\n",
       "      <td>2</td>\n",
       "      <td>) Paytm</td>\n",
       "      <td>Noida</td>\n",
       "      <td>2010</td>\n",
       "      <td>Akshay Khanna, Vijay Shekhar Sharma</td>\n",
       "      <td>E-Commerce</td>\n",
       "      <td>32,448,851</td>\n",
       "      <td>Number of funding rounds: 4</td>\n",
       "      <td>501-1000</td>\n",
       "      <td>Number of investors: 4</td>\n",
       "    </tr>\n",
       "    <tr>\n",
       "      <th>3</th>\n",
       "      <td>3</td>\n",
       "      <td>) Apna</td>\n",
       "      <td>Mumbai</td>\n",
       "      <td>2019</td>\n",
       "      <td>Nirmit Parikh</td>\n",
       "      <td>Employment</td>\n",
       "      <td>93,450,000</td>\n",
       "      <td>Number of funding rounds: 4</td>\n",
       "      <td>101-250</td>\n",
       "      <td>Number of investors: 6</td>\n",
       "    </tr>\n",
       "    <tr>\n",
       "      <th>4</th>\n",
       "      <td>4</td>\n",
       "      <td>) Razorpay</td>\n",
       "      <td>Bengaluru</td>\n",
       "      <td>2014</td>\n",
       "      <td>Harshil Mathur, Shashank Kumar</td>\n",
       "      <td>Financial</td>\n",
       "      <td>366,600,000</td>\n",
       "      <td>Number of funding rounds: 7</td>\n",
       "      <td>1001-5000</td>\n",
       "      <td>Number of investors: 29</td>\n",
       "    </tr>\n",
       "    <tr>\n",
       "      <th>...</th>\n",
       "      <td>...</td>\n",
       "      <td>...</td>\n",
       "      <td>...</td>\n",
       "      <td>...</td>\n",
       "      <td>...</td>\n",
       "      <td>...</td>\n",
       "      <td>...</td>\n",
       "      <td>...</td>\n",
       "      <td>...</td>\n",
       "      <td>...</td>\n",
       "    </tr>\n",
       "    <tr>\n",
       "      <th>272</th>\n",
       "      <td>272</td>\n",
       "      <td>) Hopscotch</td>\n",
       "      <td>Mumbai</td>\n",
       "      <td>2011</td>\n",
       "      <td>Bhanu Chopra</td>\n",
       "      <td>E-Commerce</td>\n",
       "      <td>554,629,632</td>\n",
       "      <td>Number of funding rounds: 5</td>\n",
       "      <td>101-250</td>\n",
       "      <td>Number of investors: 4</td>\n",
       "    </tr>\n",
       "    <tr>\n",
       "      <th>273</th>\n",
       "      <td>273</td>\n",
       "      <td>) Setu</td>\n",
       "      <td>Bengaluru</td>\n",
       "      <td>2018</td>\n",
       "      <td>Ganesh Krishnamoorthy, Milap Shah, Rahul Jain,...</td>\n",
       "      <td>Financial</td>\n",
       "      <td>1,179,919</td>\n",
       "      <td>Number of funding rounds: 2</td>\n",
       "      <td>1001-5000</td>\n",
       "      <td>Number of investors: 4</td>\n",
       "    </tr>\n",
       "    <tr>\n",
       "      <th>274</th>\n",
       "      <td>274</td>\n",
       "      <td>) Blue Tokai Coffee Roasters</td>\n",
       "      <td>Delhi</td>\n",
       "      <td>2012</td>\n",
       "      <td>Tarun Sharma, Vikas Lachhwani</td>\n",
       "      <td>Consumer</td>\n",
       "      <td>15,000,000</td>\n",
       "      <td>Number of funding rounds: 3</td>\n",
       "      <td>101-250</td>\n",
       "      <td>Number of investors: 2</td>\n",
       "    </tr>\n",
       "    <tr>\n",
       "      <th>275</th>\n",
       "      <td>275</td>\n",
       "      <td>) Avanse Financial Services</td>\n",
       "      <td>Mumbai</td>\n",
       "      <td>2012</td>\n",
       "      <td>Nitin Saluja, Raghav Verma</td>\n",
       "      <td>Education</td>\n",
       "      <td>6,065,079</td>\n",
       "      <td>Number of funding rounds: 3</td>\n",
       "      <td>11-50</td>\n",
       "      <td>Number of investors: 3</td>\n",
       "    </tr>\n",
       "    <tr>\n",
       "      <th>276</th>\n",
       "      <td>276</td>\n",
       "      <td>) Gaana</td>\n",
       "      <td>Noida</td>\n",
       "      <td>2011</td>\n",
       "      <td>Dhawal Gusain</td>\n",
       "      <td>Apps</td>\n",
       "      <td>7,964,767</td>\n",
       "      <td>Number of funding rounds: 3</td>\n",
       "      <td>101-250</td>\n",
       "      <td>Number of investors: 6</td>\n",
       "    </tr>\n",
       "  </tbody>\n",
       "</table>\n",
       "<p>277 rows × 10 columns</p>\n",
       "</div>"
      ],
      "text/plain": [
       "     Unnamed: 0                       Company      Cities  Year of starting  \\\n",
       "0             0               ) Urban Company     Gurgaon              2014   \n",
       "1             1                   ) Classplus       Noida              2018   \n",
       "2             2                       ) Paytm       Noida              2010   \n",
       "3             3                        ) Apna      Mumbai              2019   \n",
       "4             4                    ) Razorpay   Bengaluru              2014   \n",
       "..          ...                           ...         ...               ...   \n",
       "272         272                   ) Hopscotch      Mumbai              2011   \n",
       "273         273                        ) Setu   Bengaluru              2018   \n",
       "274         274  ) Blue Tokai Coffee Roasters       Delhi              2012   \n",
       "275         275   ) Avanse Financial Services      Mumbai              2012   \n",
       "276         276                       ) Gaana       Noida              2011   \n",
       "\n",
       "                                              FOUNDERS  Industries  \\\n",
       "0    Abhiraj Singh Bhal, Raghav Chandra, Varun Khaitan        Apps   \n",
       "1    Bhaswat Agarwal, Bikash Dash, Mukul Rustagi, N...         B2B   \n",
       "2                  Akshay Khanna, Vijay Shekhar Sharma  E-Commerce   \n",
       "3                                        Nirmit Parikh  Employment   \n",
       "4                       Harshil Mathur, Shashank Kumar   Financial   \n",
       "..                                                 ...         ...   \n",
       "272                                       Bhanu Chopra  E-Commerce   \n",
       "273  Ganesh Krishnamoorthy, Milap Shah, Rahul Jain,...   Financial   \n",
       "274                      Tarun Sharma, Vikas Lachhwani    Consumer   \n",
       "275                         Nitin Saluja, Raghav Verma   Education   \n",
       "276                                      Dhawal Gusain        Apps   \n",
       "\n",
       "    Funding amount                Funding rounds No of employees  \\\n",
       "0      445,920,356  Number of funding rounds: 12       1001-5000   \n",
       "1       89,506,451  Number of funding rounds: 10         101-250   \n",
       "2       32,448,851   Number of funding rounds: 4        501-1000   \n",
       "3       93,450,000   Number of funding rounds: 4         101-250   \n",
       "4      366,600,000   Number of funding rounds: 7       1001-5000   \n",
       "..             ...                           ...             ...   \n",
       "272    554,629,632   Number of funding rounds: 5         101-250   \n",
       "273      1,179,919   Number of funding rounds: 2       1001-5000   \n",
       "274     15,000,000   Number of funding rounds: 3         101-250   \n",
       "275      6,065,079   Number of funding rounds: 3           11-50   \n",
       "276      7,964,767   Number of funding rounds: 3         101-250   \n",
       "\n",
       "             No of investors  \n",
       "0    Number of investors: 16  \n",
       "1    Number of investors: 20  \n",
       "2     Number of investors: 4  \n",
       "3     Number of investors: 6  \n",
       "4    Number of investors: 29  \n",
       "..                       ...  \n",
       "272   Number of investors: 4  \n",
       "273   Number of investors: 4  \n",
       "274   Number of investors: 2  \n",
       "275   Number of investors: 3  \n",
       "276   Number of investors: 6  \n",
       "\n",
       "[277 rows x 10 columns]"
      ]
     },
     "execution_count": 251,
     "metadata": {},
     "output_type": "execute_result"
    }
   ],
   "source": [
    "data\n"
   ]
  },
  {
   "cell_type": "code",
   "execution_count": null,
   "id": "dd2a17de",
   "metadata": {},
   "outputs": [],
   "source": []
  },
  {
   "cell_type": "markdown",
   "id": "9a5f1cd6",
   "metadata": {},
   "source": [
    "# Data Cleaning"
   ]
  },
  {
   "cell_type": "code",
   "execution_count": 252,
   "id": "5cb27ac4",
   "metadata": {},
   "outputs": [],
   "source": [
    "data=data.drop([\"Unnamed: 0\"],axis=1)"
   ]
  },
  {
   "cell_type": "code",
   "execution_count": 253,
   "id": "60a4060b",
   "metadata": {},
   "outputs": [
    {
     "data": {
      "text/html": [
       "<div>\n",
       "<style scoped>\n",
       "    .dataframe tbody tr th:only-of-type {\n",
       "        vertical-align: middle;\n",
       "    }\n",
       "\n",
       "    .dataframe tbody tr th {\n",
       "        vertical-align: top;\n",
       "    }\n",
       "\n",
       "    .dataframe thead th {\n",
       "        text-align: right;\n",
       "    }\n",
       "</style>\n",
       "<table border=\"1\" class=\"dataframe\">\n",
       "  <thead>\n",
       "    <tr style=\"text-align: right;\">\n",
       "      <th></th>\n",
       "      <th>Company</th>\n",
       "      <th>Cities</th>\n",
       "      <th>Year of starting</th>\n",
       "      <th>FOUNDERS</th>\n",
       "      <th>Industries</th>\n",
       "      <th>Funding amount</th>\n",
       "      <th>Funding rounds</th>\n",
       "      <th>No of employees</th>\n",
       "      <th>No of investors</th>\n",
       "    </tr>\n",
       "  </thead>\n",
       "  <tbody>\n",
       "    <tr>\n",
       "      <th>0</th>\n",
       "      <td>) Urban Company</td>\n",
       "      <td>Gurgaon</td>\n",
       "      <td>2014</td>\n",
       "      <td>Abhiraj Singh Bhal, Raghav Chandra, Varun Khaitan</td>\n",
       "      <td>Apps</td>\n",
       "      <td>445,920,356</td>\n",
       "      <td>Number of funding rounds: 12</td>\n",
       "      <td>1001-5000</td>\n",
       "      <td>Number of investors: 16</td>\n",
       "    </tr>\n",
       "    <tr>\n",
       "      <th>1</th>\n",
       "      <td>) Classplus</td>\n",
       "      <td>Noida</td>\n",
       "      <td>2018</td>\n",
       "      <td>Bhaswat Agarwal, Bikash Dash, Mukul Rustagi, N...</td>\n",
       "      <td>B2B</td>\n",
       "      <td>89,506,451</td>\n",
       "      <td>Number of funding rounds: 10</td>\n",
       "      <td>101-250</td>\n",
       "      <td>Number of investors: 20</td>\n",
       "    </tr>\n",
       "    <tr>\n",
       "      <th>2</th>\n",
       "      <td>) Paytm</td>\n",
       "      <td>Noida</td>\n",
       "      <td>2010</td>\n",
       "      <td>Akshay Khanna, Vijay Shekhar Sharma</td>\n",
       "      <td>E-Commerce</td>\n",
       "      <td>32,448,851</td>\n",
       "      <td>Number of funding rounds: 4</td>\n",
       "      <td>501-1000</td>\n",
       "      <td>Number of investors: 4</td>\n",
       "    </tr>\n",
       "    <tr>\n",
       "      <th>3</th>\n",
       "      <td>) Apna</td>\n",
       "      <td>Mumbai</td>\n",
       "      <td>2019</td>\n",
       "      <td>Nirmit Parikh</td>\n",
       "      <td>Employment</td>\n",
       "      <td>93,450,000</td>\n",
       "      <td>Number of funding rounds: 4</td>\n",
       "      <td>101-250</td>\n",
       "      <td>Number of investors: 6</td>\n",
       "    </tr>\n",
       "    <tr>\n",
       "      <th>4</th>\n",
       "      <td>) Razorpay</td>\n",
       "      <td>Bengaluru</td>\n",
       "      <td>2014</td>\n",
       "      <td>Harshil Mathur, Shashank Kumar</td>\n",
       "      <td>Financial</td>\n",
       "      <td>366,600,000</td>\n",
       "      <td>Number of funding rounds: 7</td>\n",
       "      <td>1001-5000</td>\n",
       "      <td>Number of investors: 29</td>\n",
       "    </tr>\n",
       "  </tbody>\n",
       "</table>\n",
       "</div>"
      ],
      "text/plain": [
       "           Company      Cities  Year of starting  \\\n",
       "0  ) Urban Company     Gurgaon              2014   \n",
       "1      ) Classplus       Noida              2018   \n",
       "2          ) Paytm       Noida              2010   \n",
       "3           ) Apna      Mumbai              2019   \n",
       "4       ) Razorpay   Bengaluru              2014   \n",
       "\n",
       "                                            FOUNDERS  Industries  \\\n",
       "0  Abhiraj Singh Bhal, Raghav Chandra, Varun Khaitan        Apps   \n",
       "1  Bhaswat Agarwal, Bikash Dash, Mukul Rustagi, N...         B2B   \n",
       "2                Akshay Khanna, Vijay Shekhar Sharma  E-Commerce   \n",
       "3                                      Nirmit Parikh  Employment   \n",
       "4                     Harshil Mathur, Shashank Kumar   Financial   \n",
       "\n",
       "  Funding amount                Funding rounds No of employees  \\\n",
       "0    445,920,356  Number of funding rounds: 12       1001-5000   \n",
       "1     89,506,451  Number of funding rounds: 10         101-250   \n",
       "2     32,448,851   Number of funding rounds: 4        501-1000   \n",
       "3     93,450,000   Number of funding rounds: 4         101-250   \n",
       "4    366,600,000   Number of funding rounds: 7       1001-5000   \n",
       "\n",
       "           No of investors  \n",
       "0  Number of investors: 16  \n",
       "1  Number of investors: 20  \n",
       "2   Number of investors: 4  \n",
       "3   Number of investors: 6  \n",
       "4  Number of investors: 29  "
      ]
     },
     "execution_count": 253,
     "metadata": {},
     "output_type": "execute_result"
    }
   ],
   "source": [
    "data.head()"
   ]
  },
  {
   "cell_type": "code",
   "execution_count": 32,
   "id": "753d7547",
   "metadata": {},
   "outputs": [],
   "source": [
    "#cleaning special characters from the data like \"),...\"\n",
    "\n",
    "#changing No-of employees to maximum no of employees to minimum no of employees\n",
    "\n",
    "#removing \"[Number-of-funding-rounds],[Number-of-investors]\n",
    "\n",
    "#for more understanding of data i had changed founders to no-of-founders for further visualizing\n"
   ]
  },
  {
   "cell_type": "code",
   "execution_count": 254,
   "id": "68256e43",
   "metadata": {},
   "outputs": [],
   "source": [
    "data[\"Company\"]=data[\"Company\"].apply(lambda x: pd.Series(str(x).split(\")\")))[1]"
   ]
  },
  {
   "cell_type": "code",
   "execution_count": 255,
   "id": "6674c5d5",
   "metadata": {},
   "outputs": [],
   "source": [
    "data[\"No of Founders\"]=data[\"FOUNDERS\"].apply(lambda x: len(pd.Series(str(x).split(\",\"))))"
   ]
  },
  {
   "cell_type": "code",
   "execution_count": 256,
   "id": "475c4f5e",
   "metadata": {},
   "outputs": [],
   "source": [
    "data=data.drop(\"FOUNDERS\",axis=1)"
   ]
  },
  {
   "cell_type": "code",
   "execution_count": 257,
   "id": "2527deac",
   "metadata": {},
   "outputs": [],
   "source": [
    "data[\"Funding amount\"]=data[\"Funding amount\"].apply(lambda x: x.replace(\",\",\"\"))\n"
   ]
  },
  {
   "cell_type": "code",
   "execution_count": 258,
   "id": "7e140eb9",
   "metadata": {},
   "outputs": [],
   "source": [
    "data[\"Funding rounds\"]=data[\"Funding rounds\"].apply(lambda x: pd.Series(str(x).split(\":\")))[1]\n",
    "data[\"No of investors\"]=data[\"No of investors\"].apply(lambda x: pd.Series(str(x).split(\":\")))[1]"
   ]
  },
  {
   "cell_type": "code",
   "execution_count": 259,
   "id": "aa0ccdb8",
   "metadata": {},
   "outputs": [],
   "source": [
    "data[[\"Minimum no of employees\",\"Maximum no of employees\"]]=data[\"No of employees\"].apply(lambda x:pd.Series(str(x).split(\"-\")))\n"
   ]
  },
  {
   "cell_type": "code",
   "execution_count": 260,
   "id": "eab155b4",
   "metadata": {},
   "outputs": [],
   "source": [
    "data=data.drop([\"No of employees\"],axis=1)"
   ]
  },
  {
   "cell_type": "code",
   "execution_count": 261,
   "id": "6e013770",
   "metadata": {},
   "outputs": [
    {
     "data": {
      "text/html": [
       "<div>\n",
       "<style scoped>\n",
       "    .dataframe tbody tr th:only-of-type {\n",
       "        vertical-align: middle;\n",
       "    }\n",
       "\n",
       "    .dataframe tbody tr th {\n",
       "        vertical-align: top;\n",
       "    }\n",
       "\n",
       "    .dataframe thead th {\n",
       "        text-align: right;\n",
       "    }\n",
       "</style>\n",
       "<table border=\"1\" class=\"dataframe\">\n",
       "  <thead>\n",
       "    <tr style=\"text-align: right;\">\n",
       "      <th></th>\n",
       "      <th>Company</th>\n",
       "      <th>Cities</th>\n",
       "      <th>Year of starting</th>\n",
       "      <th>Industries</th>\n",
       "      <th>Funding amount</th>\n",
       "      <th>Funding rounds</th>\n",
       "      <th>No of investors</th>\n",
       "      <th>No of Founders</th>\n",
       "      <th>Minimum no of employees</th>\n",
       "      <th>Maximum no of employees</th>\n",
       "    </tr>\n",
       "  </thead>\n",
       "  <tbody>\n",
       "    <tr>\n",
       "      <th>0</th>\n",
       "      <td>Urban Company</td>\n",
       "      <td>Gurgaon</td>\n",
       "      <td>2014</td>\n",
       "      <td>Apps</td>\n",
       "      <td>445920356</td>\n",
       "      <td>12</td>\n",
       "      <td>16</td>\n",
       "      <td>3</td>\n",
       "      <td>1001</td>\n",
       "      <td>5000</td>\n",
       "    </tr>\n",
       "    <tr>\n",
       "      <th>1</th>\n",
       "      <td>Classplus</td>\n",
       "      <td>Noida</td>\n",
       "      <td>2018</td>\n",
       "      <td>B2B</td>\n",
       "      <td>89506451</td>\n",
       "      <td>10</td>\n",
       "      <td>20</td>\n",
       "      <td>5</td>\n",
       "      <td>101</td>\n",
       "      <td>250</td>\n",
       "    </tr>\n",
       "    <tr>\n",
       "      <th>2</th>\n",
       "      <td>Paytm</td>\n",
       "      <td>Noida</td>\n",
       "      <td>2010</td>\n",
       "      <td>E-Commerce</td>\n",
       "      <td>32448851</td>\n",
       "      <td>4</td>\n",
       "      <td>4</td>\n",
       "      <td>2</td>\n",
       "      <td>501</td>\n",
       "      <td>1000</td>\n",
       "    </tr>\n",
       "    <tr>\n",
       "      <th>3</th>\n",
       "      <td>Apna</td>\n",
       "      <td>Mumbai</td>\n",
       "      <td>2019</td>\n",
       "      <td>Employment</td>\n",
       "      <td>93450000</td>\n",
       "      <td>4</td>\n",
       "      <td>6</td>\n",
       "      <td>1</td>\n",
       "      <td>101</td>\n",
       "      <td>250</td>\n",
       "    </tr>\n",
       "    <tr>\n",
       "      <th>4</th>\n",
       "      <td>Razorpay</td>\n",
       "      <td>Bengaluru</td>\n",
       "      <td>2014</td>\n",
       "      <td>Financial</td>\n",
       "      <td>366600000</td>\n",
       "      <td>7</td>\n",
       "      <td>29</td>\n",
       "      <td>2</td>\n",
       "      <td>1001</td>\n",
       "      <td>5000</td>\n",
       "    </tr>\n",
       "  </tbody>\n",
       "</table>\n",
       "</div>"
      ],
      "text/plain": [
       "          Company      Cities  Year of starting  Industries Funding amount  \\\n",
       "0   Urban Company     Gurgaon              2014        Apps      445920356   \n",
       "1       Classplus       Noida              2018         B2B       89506451   \n",
       "2           Paytm       Noida              2010  E-Commerce       32448851   \n",
       "3            Apna      Mumbai              2019  Employment       93450000   \n",
       "4        Razorpay   Bengaluru              2014   Financial      366600000   \n",
       "\n",
       "  Funding rounds No of investors  No of Founders Minimum no of employees  \\\n",
       "0             12              16               3                    1001   \n",
       "1             10              20               5                     101   \n",
       "2              4               4               2                     501   \n",
       "3              4               6               1                     101   \n",
       "4              7              29               2                    1001   \n",
       "\n",
       "  Maximum no of employees  \n",
       "0                    5000  \n",
       "1                     250  \n",
       "2                    1000  \n",
       "3                     250  \n",
       "4                    5000  "
      ]
     },
     "execution_count": 261,
     "metadata": {},
     "output_type": "execute_result"
    }
   ],
   "source": [
    "data.head()"
   ]
  },
  {
   "cell_type": "code",
   "execution_count": 262,
   "id": "f52d1f80",
   "metadata": {},
   "outputs": [
    {
     "data": {
      "text/plain": [
       "Company                    0\n",
       "Cities                     0\n",
       "Year of starting           0\n",
       "Industries                 0\n",
       "Funding amount             0\n",
       "Funding rounds             0\n",
       "No of investors            0\n",
       "No of Founders             0\n",
       "Minimum no of employees    0\n",
       "Maximum no of employees    0\n",
       "dtype: int64"
      ]
     },
     "execution_count": 262,
     "metadata": {},
     "output_type": "execute_result"
    }
   ],
   "source": [
    "# Now finding null values present in the dataset\n",
    "# -is na()\n",
    "# -is null()\n",
    "\n",
    "data.isna().sum()"
   ]
  },
  {
   "cell_type": "code",
   "execution_count": 263,
   "id": "e7861e03",
   "metadata": {},
   "outputs": [
    {
     "data": {
      "text/plain": [
       "Company                    0\n",
       "Cities                     0\n",
       "Year of starting           0\n",
       "Industries                 0\n",
       "Funding amount             0\n",
       "Funding rounds             0\n",
       "No of investors            0\n",
       "No of Founders             0\n",
       "Minimum no of employees    0\n",
       "Maximum no of employees    0\n",
       "dtype: int64"
      ]
     },
     "execution_count": 263,
     "metadata": {},
     "output_type": "execute_result"
    }
   ],
   "source": [
    "data.isnull().sum()"
   ]
  },
  {
   "cell_type": "code",
   "execution_count": 264,
   "id": "9fd00d1f",
   "metadata": {},
   "outputs": [],
   "source": [
    "## find any duplicate value present in the data"
   ]
  },
  {
   "cell_type": "code",
   "execution_count": 265,
   "id": "ee5b8cb0",
   "metadata": {},
   "outputs": [
    {
     "data": {
      "text/html": [
       "<div>\n",
       "<style scoped>\n",
       "    .dataframe tbody tr th:only-of-type {\n",
       "        vertical-align: middle;\n",
       "    }\n",
       "\n",
       "    .dataframe tbody tr th {\n",
       "        vertical-align: top;\n",
       "    }\n",
       "\n",
       "    .dataframe thead th {\n",
       "        text-align: right;\n",
       "    }\n",
       "</style>\n",
       "<table border=\"1\" class=\"dataframe\">\n",
       "  <thead>\n",
       "    <tr style=\"text-align: right;\">\n",
       "      <th></th>\n",
       "      <th>Company</th>\n",
       "      <th>Cities</th>\n",
       "      <th>Year of starting</th>\n",
       "      <th>Industries</th>\n",
       "      <th>Funding amount</th>\n",
       "      <th>Funding rounds</th>\n",
       "      <th>No of investors</th>\n",
       "      <th>No of Founders</th>\n",
       "      <th>Minimum no of employees</th>\n",
       "      <th>Maximum no of employees</th>\n",
       "    </tr>\n",
       "  </thead>\n",
       "  <tbody>\n",
       "  </tbody>\n",
       "</table>\n",
       "</div>"
      ],
      "text/plain": [
       "Empty DataFrame\n",
       "Columns: [Company, Cities, Year of starting, Industries, Funding amount, Funding rounds, No of investors, No of Founders, Minimum no of employees, Maximum no of employees]\n",
       "Index: []"
      ]
     },
     "execution_count": 265,
     "metadata": {},
     "output_type": "execute_result"
    }
   ],
   "source": [
    "data[data.duplicated()] "
   ]
  },
  {
   "cell_type": "code",
   "execution_count": null,
   "id": "b1d3b152",
   "metadata": {},
   "outputs": [],
   "source": []
  },
  {
   "cell_type": "markdown",
   "id": "5db7ec31",
   "metadata": {},
   "source": [
    "# Data Manupulating"
   ]
  },
  {
   "cell_type": "code",
   "execution_count": null,
   "id": "ab3a3a63",
   "metadata": {},
   "outputs": [],
   "source": []
  },
  {
   "cell_type": "code",
   "execution_count": 266,
   "id": "d7010fed",
   "metadata": {},
   "outputs": [
    {
     "name": "stdout",
     "output_type": "stream",
     "text": [
      "<class 'pandas.core.frame.DataFrame'>\n",
      "RangeIndex: 277 entries, 0 to 276\n",
      "Data columns (total 10 columns):\n",
      " #   Column                   Non-Null Count  Dtype \n",
      "---  ------                   --------------  ----- \n",
      " 0   Company                  277 non-null    object\n",
      " 1   Cities                   277 non-null    object\n",
      " 2   Year of starting         277 non-null    int64 \n",
      " 3   Industries               277 non-null    object\n",
      " 4   Funding amount           277 non-null    object\n",
      " 5   Funding rounds           277 non-null    object\n",
      " 6   No of investors          277 non-null    object\n",
      " 7   No of Founders           277 non-null    int64 \n",
      " 8   Minimum no of employees  277 non-null    object\n",
      " 9   Maximum no of employees  277 non-null    object\n",
      "dtypes: int64(2), object(8)\n",
      "memory usage: 21.8+ KB\n"
     ]
    }
   ],
   "source": [
    "data.info()"
   ]
  },
  {
   "cell_type": "code",
   "execution_count": 268,
   "id": "cdc84d14",
   "metadata": {},
   "outputs": [],
   "source": [
    "convert_type={\"Funding amount\":int,\"Funding rounds\":int,\"No of investors\":int,\"Minimum no of employees\":int,\"Maximum no of employees\":int}\n",
    "data=data.astype(convert_type)"
   ]
  },
  {
   "cell_type": "code",
   "execution_count": 269,
   "id": "440ff219",
   "metadata": {},
   "outputs": [
    {
     "name": "stdout",
     "output_type": "stream",
     "text": [
      "<class 'pandas.core.frame.DataFrame'>\n",
      "RangeIndex: 277 entries, 0 to 276\n",
      "Data columns (total 10 columns):\n",
      " #   Column                   Non-Null Count  Dtype \n",
      "---  ------                   --------------  ----- \n",
      " 0   Company                  277 non-null    object\n",
      " 1   Cities                   277 non-null    object\n",
      " 2   Year of starting         277 non-null    int64 \n",
      " 3   Industries               277 non-null    object\n",
      " 4   Funding amount           277 non-null    int32 \n",
      " 5   Funding rounds           277 non-null    int32 \n",
      " 6   No of investors          277 non-null    int32 \n",
      " 7   No of Founders           277 non-null    int64 \n",
      " 8   Minimum no of employees  277 non-null    int32 \n",
      " 9   Maximum no of employees  277 non-null    int32 \n",
      "dtypes: int32(5), int64(2), object(3)\n",
      "memory usage: 16.4+ KB\n"
     ]
    }
   ],
   "source": [
    "data.info()"
   ]
  },
  {
   "cell_type": "code",
   "execution_count": 270,
   "id": "72c1ede5",
   "metadata": {},
   "outputs": [
    {
     "data": {
      "text/html": [
       "<div>\n",
       "<style scoped>\n",
       "    .dataframe tbody tr th:only-of-type {\n",
       "        vertical-align: middle;\n",
       "    }\n",
       "\n",
       "    .dataframe tbody tr th {\n",
       "        vertical-align: top;\n",
       "    }\n",
       "\n",
       "    .dataframe thead th {\n",
       "        text-align: right;\n",
       "    }\n",
       "</style>\n",
       "<table border=\"1\" class=\"dataframe\">\n",
       "  <thead>\n",
       "    <tr style=\"text-align: right;\">\n",
       "      <th></th>\n",
       "      <th>Year of starting</th>\n",
       "      <th>Funding amount</th>\n",
       "      <th>Funding rounds</th>\n",
       "      <th>No of investors</th>\n",
       "      <th>No of Founders</th>\n",
       "      <th>Minimum no of employees</th>\n",
       "      <th>Maximum no of employees</th>\n",
       "    </tr>\n",
       "  </thead>\n",
       "  <tbody>\n",
       "    <tr>\n",
       "      <th>count</th>\n",
       "      <td>277.000000</td>\n",
       "      <td>2.770000e+02</td>\n",
       "      <td>277.000000</td>\n",
       "      <td>277.000000</td>\n",
       "      <td>277.000000</td>\n",
       "      <td>277.000000</td>\n",
       "      <td>277.000000</td>\n",
       "    </tr>\n",
       "    <tr>\n",
       "      <th>mean</th>\n",
       "      <td>2013.433213</td>\n",
       "      <td>9.762388e+07</td>\n",
       "      <td>6.129964</td>\n",
       "      <td>10.790614</td>\n",
       "      <td>2.386282</td>\n",
       "      <td>413.563177</td>\n",
       "      <td>1307.184116</td>\n",
       "    </tr>\n",
       "    <tr>\n",
       "      <th>std</th>\n",
       "      <td>5.042578</td>\n",
       "      <td>1.430760e+08</td>\n",
       "      <td>4.307611</td>\n",
       "      <td>7.587140</td>\n",
       "      <td>1.312796</td>\n",
       "      <td>814.028006</td>\n",
       "      <td>2212.724732</td>\n",
       "    </tr>\n",
       "    <tr>\n",
       "      <th>min</th>\n",
       "      <td>1984.000000</td>\n",
       "      <td>1.119863e+06</td>\n",
       "      <td>1.000000</td>\n",
       "      <td>1.000000</td>\n",
       "      <td>1.000000</td>\n",
       "      <td>1.000000</td>\n",
       "      <td>10.000000</td>\n",
       "    </tr>\n",
       "    <tr>\n",
       "      <th>25%</th>\n",
       "      <td>2012.000000</td>\n",
       "      <td>1.434030e+07</td>\n",
       "      <td>3.000000</td>\n",
       "      <td>5.000000</td>\n",
       "      <td>2.000000</td>\n",
       "      <td>51.000000</td>\n",
       "      <td>100.000000</td>\n",
       "    </tr>\n",
       "    <tr>\n",
       "      <th>50%</th>\n",
       "      <td>2015.000000</td>\n",
       "      <td>3.799669e+07</td>\n",
       "      <td>5.000000</td>\n",
       "      <td>9.000000</td>\n",
       "      <td>2.000000</td>\n",
       "      <td>101.000000</td>\n",
       "      <td>250.000000</td>\n",
       "    </tr>\n",
       "    <tr>\n",
       "      <th>75%</th>\n",
       "      <td>2016.000000</td>\n",
       "      <td>1.150000e+08</td>\n",
       "      <td>8.000000</td>\n",
       "      <td>14.000000</td>\n",
       "      <td>3.000000</td>\n",
       "      <td>501.000000</td>\n",
       "      <td>1000.000000</td>\n",
       "    </tr>\n",
       "    <tr>\n",
       "      <th>max</th>\n",
       "      <td>2020.000000</td>\n",
       "      <td>8.248300e+08</td>\n",
       "      <td>25.000000</td>\n",
       "      <td>45.000000</td>\n",
       "      <td>12.000000</td>\n",
       "      <td>5001.000000</td>\n",
       "      <td>10000.000000</td>\n",
       "    </tr>\n",
       "  </tbody>\n",
       "</table>\n",
       "</div>"
      ],
      "text/plain": [
       "       Year of starting  Funding amount  Funding rounds  No of investors  \\\n",
       "count        277.000000    2.770000e+02      277.000000       277.000000   \n",
       "mean        2013.433213    9.762388e+07        6.129964        10.790614   \n",
       "std            5.042578    1.430760e+08        4.307611         7.587140   \n",
       "min         1984.000000    1.119863e+06        1.000000         1.000000   \n",
       "25%         2012.000000    1.434030e+07        3.000000         5.000000   \n",
       "50%         2015.000000    3.799669e+07        5.000000         9.000000   \n",
       "75%         2016.000000    1.150000e+08        8.000000        14.000000   \n",
       "max         2020.000000    8.248300e+08       25.000000        45.000000   \n",
       "\n",
       "       No of Founders  Minimum no of employees  Maximum no of employees  \n",
       "count      277.000000               277.000000               277.000000  \n",
       "mean         2.386282               413.563177              1307.184116  \n",
       "std          1.312796               814.028006              2212.724732  \n",
       "min          1.000000                 1.000000                10.000000  \n",
       "25%          2.000000                51.000000               100.000000  \n",
       "50%          2.000000               101.000000               250.000000  \n",
       "75%          3.000000               501.000000              1000.000000  \n",
       "max         12.000000              5001.000000             10000.000000  "
      ]
     },
     "execution_count": 270,
     "metadata": {},
     "output_type": "execute_result"
    }
   ],
   "source": [
    "data.describe()"
   ]
  },
  {
   "cell_type": "code",
   "execution_count": null,
   "id": "289a12c2",
   "metadata": {},
   "outputs": [],
   "source": []
  },
  {
   "cell_type": "code",
   "execution_count": null,
   "id": "391b01fe",
   "metadata": {},
   "outputs": [],
   "source": []
  },
  {
   "cell_type": "code",
   "execution_count": null,
   "id": "2c5eac83",
   "metadata": {},
   "outputs": [],
   "source": []
  },
  {
   "cell_type": "code",
   "execution_count": null,
   "id": "86152f71",
   "metadata": {},
   "outputs": [],
   "source": []
  },
  {
   "cell_type": "markdown",
   "id": "dccb1d95",
   "metadata": {},
   "source": [
    "# 1.Univarient Analysis"
   ]
  },
  {
   "cell_type": "code",
   "execution_count": 271,
   "id": "64320c2d",
   "metadata": {},
   "outputs": [
    {
     "data": {
      "text/html": [
       "<div>\n",
       "<style scoped>\n",
       "    .dataframe tbody tr th:only-of-type {\n",
       "        vertical-align: middle;\n",
       "    }\n",
       "\n",
       "    .dataframe tbody tr th {\n",
       "        vertical-align: top;\n",
       "    }\n",
       "\n",
       "    .dataframe thead th {\n",
       "        text-align: right;\n",
       "    }\n",
       "</style>\n",
       "<table border=\"1\" class=\"dataframe\">\n",
       "  <thead>\n",
       "    <tr style=\"text-align: right;\">\n",
       "      <th></th>\n",
       "      <th>Company</th>\n",
       "      <th>Cities</th>\n",
       "      <th>Year of starting</th>\n",
       "      <th>Industries</th>\n",
       "      <th>Funding amount</th>\n",
       "      <th>Funding rounds</th>\n",
       "      <th>No of investors</th>\n",
       "      <th>No of Founders</th>\n",
       "      <th>Minimum no of employees</th>\n",
       "      <th>Maximum no of employees</th>\n",
       "    </tr>\n",
       "  </thead>\n",
       "  <tbody>\n",
       "    <tr>\n",
       "      <th>0</th>\n",
       "      <td>Urban Company</td>\n",
       "      <td>Gurgaon</td>\n",
       "      <td>2014</td>\n",
       "      <td>Apps</td>\n",
       "      <td>445920356</td>\n",
       "      <td>12</td>\n",
       "      <td>16</td>\n",
       "      <td>3</td>\n",
       "      <td>1001</td>\n",
       "      <td>5000</td>\n",
       "    </tr>\n",
       "    <tr>\n",
       "      <th>1</th>\n",
       "      <td>Classplus</td>\n",
       "      <td>Noida</td>\n",
       "      <td>2018</td>\n",
       "      <td>B2B</td>\n",
       "      <td>89506451</td>\n",
       "      <td>10</td>\n",
       "      <td>20</td>\n",
       "      <td>5</td>\n",
       "      <td>101</td>\n",
       "      <td>250</td>\n",
       "    </tr>\n",
       "    <tr>\n",
       "      <th>2</th>\n",
       "      <td>Paytm</td>\n",
       "      <td>Noida</td>\n",
       "      <td>2010</td>\n",
       "      <td>E-Commerce</td>\n",
       "      <td>32448851</td>\n",
       "      <td>4</td>\n",
       "      <td>4</td>\n",
       "      <td>2</td>\n",
       "      <td>501</td>\n",
       "      <td>1000</td>\n",
       "    </tr>\n",
       "    <tr>\n",
       "      <th>3</th>\n",
       "      <td>Apna</td>\n",
       "      <td>Mumbai</td>\n",
       "      <td>2019</td>\n",
       "      <td>Employment</td>\n",
       "      <td>93450000</td>\n",
       "      <td>4</td>\n",
       "      <td>6</td>\n",
       "      <td>1</td>\n",
       "      <td>101</td>\n",
       "      <td>250</td>\n",
       "    </tr>\n",
       "    <tr>\n",
       "      <th>4</th>\n",
       "      <td>Razorpay</td>\n",
       "      <td>Bengaluru</td>\n",
       "      <td>2014</td>\n",
       "      <td>Financial</td>\n",
       "      <td>366600000</td>\n",
       "      <td>7</td>\n",
       "      <td>29</td>\n",
       "      <td>2</td>\n",
       "      <td>1001</td>\n",
       "      <td>5000</td>\n",
       "    </tr>\n",
       "    <tr>\n",
       "      <th>5</th>\n",
       "      <td>UpGrad</td>\n",
       "      <td>Mumbai</td>\n",
       "      <td>2015</td>\n",
       "      <td>E-Learning</td>\n",
       "      <td>176283446</td>\n",
       "      <td>4</td>\n",
       "      <td>4</td>\n",
       "      <td>4</td>\n",
       "      <td>1001</td>\n",
       "      <td>5000</td>\n",
       "    </tr>\n",
       "    <tr>\n",
       "      <th>6</th>\n",
       "      <td>Delhivery</td>\n",
       "      <td>Gurgaon</td>\n",
       "      <td>2011</td>\n",
       "      <td>E-Commerce</td>\n",
       "      <td>1236569</td>\n",
       "      <td>11</td>\n",
       "      <td>13</td>\n",
       "      <td>5</td>\n",
       "      <td>5001</td>\n",
       "      <td>10000</td>\n",
       "    </tr>\n",
       "    <tr>\n",
       "      <th>7</th>\n",
       "      <td>1mg</td>\n",
       "      <td>Gurgaon</td>\n",
       "      <td>2015</td>\n",
       "      <td>Delivery</td>\n",
       "      <td>204600209</td>\n",
       "      <td>16</td>\n",
       "      <td>17</td>\n",
       "      <td>5</td>\n",
       "      <td>11</td>\n",
       "      <td>50</td>\n",
       "    </tr>\n",
       "    <tr>\n",
       "      <th>8</th>\n",
       "      <td>BigBasket</td>\n",
       "      <td>Bengaluru</td>\n",
       "      <td>2011</td>\n",
       "      <td>Delivery</td>\n",
       "      <td>1119863</td>\n",
       "      <td>17</td>\n",
       "      <td>17</td>\n",
       "      <td>5</td>\n",
       "      <td>5001</td>\n",
       "      <td>10000</td>\n",
       "    </tr>\n",
       "    <tr>\n",
       "      <th>9</th>\n",
       "      <td>GoMechanic</td>\n",
       "      <td>Gurgaon</td>\n",
       "      <td>2016</td>\n",
       "      <td>Automotive</td>\n",
       "      <td>59849371</td>\n",
       "      <td>8</td>\n",
       "      <td>9</td>\n",
       "      <td>5</td>\n",
       "      <td>251</td>\n",
       "      <td>500</td>\n",
       "    </tr>\n",
       "  </tbody>\n",
       "</table>\n",
       "</div>"
      ],
      "text/plain": [
       "          Company      Cities  Year of starting  Industries  Funding amount  \\\n",
       "0   Urban Company     Gurgaon              2014        Apps       445920356   \n",
       "1       Classplus       Noida              2018         B2B        89506451   \n",
       "2           Paytm       Noida              2010  E-Commerce        32448851   \n",
       "3            Apna      Mumbai              2019  Employment        93450000   \n",
       "4        Razorpay   Bengaluru              2014   Financial       366600000   \n",
       "5          UpGrad      Mumbai              2015  E-Learning       176283446   \n",
       "6       Delhivery     Gurgaon              2011  E-Commerce         1236569   \n",
       "7             1mg     Gurgaon              2015    Delivery       204600209   \n",
       "8       BigBasket   Bengaluru              2011    Delivery         1119863   \n",
       "9      GoMechanic     Gurgaon              2016  Automotive        59849371   \n",
       "\n",
       "   Funding rounds  No of investors  No of Founders  Minimum no of employees  \\\n",
       "0              12               16               3                     1001   \n",
       "1              10               20               5                      101   \n",
       "2               4                4               2                      501   \n",
       "3               4                6               1                      101   \n",
       "4               7               29               2                     1001   \n",
       "5               4                4               4                     1001   \n",
       "6              11               13               5                     5001   \n",
       "7              16               17               5                       11   \n",
       "8              17               17               5                     5001   \n",
       "9               8                9               5                      251   \n",
       "\n",
       "   Maximum no of employees  \n",
       "0                     5000  \n",
       "1                      250  \n",
       "2                     1000  \n",
       "3                      250  \n",
       "4                     5000  \n",
       "5                     5000  \n",
       "6                    10000  \n",
       "7                       50  \n",
       "8                    10000  \n",
       "9                      500  "
      ]
     },
     "execution_count": 271,
     "metadata": {},
     "output_type": "execute_result"
    }
   ],
   "source": [
    "data.head(10)"
   ]
  },
  {
   "cell_type": "markdown",
   "id": "aa3fb26e",
   "metadata": {},
   "source": [
    "# 1.1 Finding repeating years"
   ]
  },
  {
   "cell_type": "code",
   "execution_count": 272,
   "id": "2cafd3e2",
   "metadata": {},
   "outputs": [
    {
     "data": {
      "text/plain": [
       "2015    59\n",
       "2017    27\n",
       "2016    25\n",
       "2012    22\n",
       "2014    21\n",
       "2011    21\n",
       "2019    19\n",
       "2018    17\n",
       "2013    14\n",
       "2010    11\n",
       "2008     7\n",
       "2007     6\n",
       "2006     5\n",
       "2020     5\n",
       "2009     5\n",
       "2000     4\n",
       "1996     1\n",
       "1995     1\n",
       "1998     1\n",
       "1989     1\n",
       "1999     1\n",
       "2001     1\n",
       "1984     1\n",
       "1990     1\n",
       "2004     1\n",
       "Name: Year of starting, dtype: int64"
      ]
     },
     "execution_count": 272,
     "metadata": {},
     "output_type": "execute_result"
    }
   ],
   "source": [
    "data[\"Year of starting\"].value_counts()"
   ]
  },
  {
   "cell_type": "code",
   "execution_count": null,
   "id": "de4156a0",
   "metadata": {},
   "outputs": [],
   "source": []
  },
  {
   "cell_type": "markdown",
   "id": "e787771d",
   "metadata": {},
   "source": [
    "# counting the repeating years"
   ]
  },
  {
   "cell_type": "code",
   "execution_count": 273,
   "id": "d924afc1",
   "metadata": {},
   "outputs": [
    {
     "data": {
      "image/png": "[encoded data removed]",
      "text/plain": [
       "<Figure size 2000x1000 with 1 Axes>"
      ]
     },
     "metadata": {},
     "output_type": "display_data"
    }
   ],
   "source": [
    "plt.figure(figsize=(20,10))\n",
    "sns.countplot(x = 'Year of starting',data= data)\n",
    "plt.title ('No:of companies established')\n",
    "plt.xticks(rotation = 90)\n",
    "plt.show()"
   ]
  },
  {
   "cell_type": "markdown",
   "id": "976f42d1",
   "metadata": {},
   "source": [
    "# 1.2 how much percentage of companies having more number of founders"
   ]
  },
  {
   "cell_type": "code",
   "execution_count": 280,
   "id": "f8358609",
   "metadata": {},
   "outputs": [
    {
     "data": {
      "text/plain": [
       "Index(['Company', 'Cities', 'Year of starting', 'Industries', 'Funding amount',\n",
       "       'Funding rounds', 'No of investors', 'No of Founders',\n",
       "       'Minimum no of employees', 'Maximum no of employees'],\n",
       "      dtype='object')"
      ]
     },
     "execution_count": 280,
     "metadata": {},
     "output_type": "execute_result"
    }
   ],
   "source": [
    "data.columns"
   ]
  },
  {
   "cell_type": "code",
   "execution_count": 283,
   "id": "6c0564e1",
   "metadata": {},
   "outputs": [
    {
     "data": {
      "text/plain": [
       "2    108\n",
       "1     66\n",
       "3     63\n",
       "4     24\n",
       "5     11\n",
       "Name: No of Founders, dtype: int64"
      ]
     },
     "execution_count": 283,
     "metadata": {},
     "output_type": "execute_result"
    }
   ],
   "source": [
    "x=data[\"No of Founders\"].value_counts()[:5]\n",
    "x"
   ]
  },
  {
   "cell_type": "code",
   "execution_count": 284,
   "id": "4b01b7b7",
   "metadata": {},
   "outputs": [
    {
     "data": {
      "image/png": "[encoded data removed]",
      "text/plain": [
       "<Figure size 640x480 with 1 Axes>"
      ]
     },
     "metadata": {},
     "output_type": "display_data"
    }
   ],
   "source": [
    "plt.pie(x,autopct=\"%2.0f%%\")\n",
    "plt.show()"
   ]
  },
  {
   "cell_type": "markdown",
   "id": "b7f237e9",
   "metadata": {},
   "source": [
    "# 1.3 which city has more number of companies"
   ]
  },
  {
   "cell_type": "code",
   "execution_count": 419,
   "id": "4193217b",
   "metadata": {},
   "outputs": [
    {
     "data": {
      "text/plain": [
       "Text(0.5, 1.0, 'More no of companies')"
      ]
     },
     "execution_count": 419,
     "metadata": {},
     "output_type": "execute_result"
    },
    {
     "data": {
      "image/png": "[encoded data removed]",
      "text/plain": [
       "<Figure size 640x480 with 1 Axes>"
      ]
     },
     "metadata": {},
     "output_type": "display_data"
    }
   ],
   "source": [
    "z=data[[\"Cities\"]].value_counts().plot(kind=\"bar\")\n",
    "z.set_ylabel(\"count\")\n",
    "z.set_title(\"More no of companies\")"
   ]
  },
  {
   "cell_type": "markdown",
   "id": "59b4927c",
   "metadata": {},
   "source": [
    "# 2 Bi-variant Analysis"
   ]
  },
  {
   "cell_type": "markdown",
   "id": "d4d53a07",
   "metadata": {},
   "source": [
    "# 2.1 a)which city has more no of  Companies  working in industries of delivery"
   ]
  },
  {
   "cell_type": "code",
   "execution_count": 366,
   "id": "4c7f2259",
   "metadata": {},
   "outputs": [],
   "source": [
    "v=data[data[\"Industries\"]==\"Delivery\"]\n",
    "\n"
   ]
  },
  {
   "cell_type": "code",
   "execution_count": 360,
   "id": "ac9f9f1d",
   "metadata": {},
   "outputs": [],
   "source": [
    "b=v.groupby(\"Industries\")"
   ]
  },
  {
   "cell_type": "code",
   "execution_count": 421,
   "id": "72f58667",
   "metadata": {},
   "outputs": [
    {
     "data": {
      "text/plain": [
       "Text(0.5, 1.0, 'city having more industries in delivery')"
      ]
     },
     "execution_count": 421,
     "metadata": {},
     "output_type": "execute_result"
    },
    {
     "data": {
      "image/png": "[encoded data removed]",
      "text/plain": [
       "<Figure size 640x480 with 1 Axes>"
      ]
     },
     "metadata": {},
     "output_type": "display_data"
    }
   ],
   "source": [
    "j=b[[\"Cities\"]].value_counts().plot(kind=\"bar\")\n",
    "j.set_ylabel(\"count\")\n",
    "j.set_title(\"city having more industries in delivery\")"
   ]
  },
  {
   "cell_type": "markdown",
   "id": "ec17240d",
   "metadata": {},
   "source": [
    "# 2.1 b) Which city and company having industry as delivery"
   ]
  },
  {
   "cell_type": "code",
   "execution_count": 422,
   "id": "d61944d4",
   "metadata": {},
   "outputs": [
    {
     "data": {
      "text/plain": [
       "Text(0.5, 1.0, 'city and company in delivery industry')"
      ]
     },
     "execution_count": 422,
     "metadata": {},
     "output_type": "execute_result"
    },
    {
     "data": {
      "image/png": "[encoded data removed]",
      "text/plain": [
       "<Figure size 640x480 with 1 Axes>"
      ]
     },
     "metadata": {},
     "output_type": "display_data"
    }
   ],
   "source": [
    "kj=b[[\"Company\",\"Cities\",\"Industries\"]].value_counts().plot(kind=\"bar\")\n",
    "kj.set_ylabel(\"count\")\n",
    "kj.set_title(\"city and company in delivery industry\")"
   ]
  },
  {
   "cell_type": "markdown",
   "id": "7b27b6c9",
   "metadata": {},
   "source": [
    "# 2.2)In which year more no of companies are established"
   ]
  },
  {
   "cell_type": "code",
   "execution_count": 376,
   "id": "e4313f8e",
   "metadata": {},
   "outputs": [
    {
     "data": {
      "image/png": "[encoded data removed]",
      "text/plain": [
       "<Figure size 640x480 with 1 Axes>"
      ]
     },
     "metadata": {},
     "output_type": "display_data"
    }
   ],
   "source": [
    "top=data[\"Year of starting\"].value_counts()[:11]\n",
    "top.plot(kind=\"bar\")\n",
    "plt.xlabel(\"year of starting\")\n",
    "plt.ylabel(\"no of companies\")\n",
    "plt.show()"
   ]
  },
  {
   "cell_type": "code",
   "execution_count": 394,
   "id": "3b88b787",
   "metadata": {},
   "outputs": [
    {
     "name": "stdout",
     "output_type": "stream",
     "text": [
      "Collecting bar-chart-race\n",
      "  Downloading bar_chart_race-0.1.0-py3-none-any.whl (156 kB)\n",
      "     -------------------------------------- 156.8/156.8 kB 1.6 MB/s eta 0:00:00\n",
      "Requirement already satisfied: pandas>=0.24 in c:\\users\\dell\\anaconda3\\lib\\site-packages (from bar-chart-race) (1.4.4)\n",
      "Requirement already satisfied: matplotlib>=3.1 in c:\\users\\dell\\anaconda3\\lib\\site-packages (from bar-chart-race) (3.5.2)\n",
      "Requirement already satisfied: numpy>=1.17 in c:\\users\\dell\\anaconda3\\lib\\site-packages (from matplotlib>=3.1->bar-chart-race) (1.21.5)\n",
      "Requirement already satisfied: pillow>=6.2.0 in c:\\users\\dell\\anaconda3\\lib\\site-packages (from matplotlib>=3.1->bar-chart-race) (9.2.0)\n",
      "Requirement already satisfied: python-dateutil>=2.7 in c:\\users\\dell\\anaconda3\\lib\\site-packages (from matplotlib>=3.1->bar-chart-race) (2.8.2)\n",
      "Requirement already satisfied: fonttools>=4.22.0 in c:\\users\\dell\\anaconda3\\lib\\site-packages (from matplotlib>=3.1->bar-chart-race) (4.25.0)\n",
      "Requirement already satisfied: cycler>=0.10 in c:\\users\\dell\\anaconda3\\lib\\site-packages (from matplotlib>=3.1->bar-chart-race) (0.11.0)\n",
      "Requirement already satisfied: kiwisolver>=1.0.1 in c:\\users\\dell\\anaconda3\\lib\\site-packages (from matplotlib>=3.1->bar-chart-race) (1.4.2)\n",
      "Requirement already satisfied: pyparsing>=2.2.1 in c:\\users\\dell\\anaconda3\\lib\\site-packages (from matplotlib>=3.1->bar-chart-race) (3.0.9)\n",
      "Requirement already satisfied: packaging>=20.0 in c:\\users\\dell\\anaconda3\\lib\\site-packages (from matplotlib>=3.1->bar-chart-race) (21.3)\n",
      "Requirement already satisfied: pytz>=2020.1 in c:\\users\\dell\\anaconda3\\lib\\site-packages (from pandas>=0.24->bar-chart-race) (2022.7)\n",
      "Requirement already satisfied: six>=1.5 in c:\\users\\dell\\anaconda3\\lib\\site-packages (from python-dateutil>=2.7->matplotlib>=3.1->bar-chart-race) (1.16.0)\n",
      "Installing collected packages: bar-chart-race\n",
      "Successfully installed bar-chart-race-0.1.0\n",
      "Note: you may need to restart the kernel to use updated packages.\n"
     ]
    }
   ],
   "source": [
    "pip install bar-chart-race"
   ]
  },
  {
   "cell_type": "code",
   "execution_count": 395,
   "id": "ac2eb742",
   "metadata": {},
   "outputs": [
    {
     "data": {
      "text/html": [
       "        <script type=\"text/javascript\">\n",
       "        window.PlotlyConfig = {MathJaxConfig: 'local'};\n",
       "        if (window.MathJax && window.MathJax.Hub && window.MathJax.Hub.Config) {window.MathJax.Hub.Config({SVG: {font: \"STIX-Web\"}});}\n",
       "        if (typeof require !== 'undefined') {\n",
       "        require.undef(\"plotly\");\n",
       "        requirejs.config({\n",
       "            paths: {\n",
       "                'plotly': ['https://cdn.plot.ly/plotly-2.12.1.min']\n",
       "            }\n",
       "        });\n",
       "        require(['plotly'], function(Plotly) {\n",
       "            window._Plotly = Plotly;\n",
       "        });\n",
       "        }\n",
       "        </script>\n",
       "        "
      ]
     },
     "metadata": {},
     "output_type": "display_data"
    }
   ],
   "source": [
    "from openpyxl import load_workbook\n",
    "import bar_chart_race as bcr\n",
    "import plotly.express as px\n",
    "\n",
    "import plotly.graph_objs as go\n",
    "from plotly.offline import download_plotlyjs,init_notebook_mode,plot,iplot\n",
    "init_notebook_mode(connected=True)"
   ]
  },
  {
   "cell_type": "markdown",
   "id": "aba380d2",
   "metadata": {},
   "source": [
    "# 2.3 which company has more number of funding rounds"
   ]
  },
  {
   "cell_type": "code",
   "execution_count": 397,
   "id": "2b39b67d",
   "metadata": {},
   "outputs": [
    {
     "data": {
      "text/html": [
       "<div>\n",
       "<style scoped>\n",
       "    .dataframe tbody tr th:only-of-type {\n",
       "        vertical-align: middle;\n",
       "    }\n",
       "\n",
       "    .dataframe tbody tr th {\n",
       "        vertical-align: top;\n",
       "    }\n",
       "\n",
       "    .dataframe thead th {\n",
       "        text-align: right;\n",
       "    }\n",
       "</style>\n",
       "<table border=\"1\" class=\"dataframe\">\n",
       "  <thead>\n",
       "    <tr style=\"text-align: right;\">\n",
       "      <th></th>\n",
       "      <th>Company</th>\n",
       "      <th>Cities</th>\n",
       "      <th>Year of starting</th>\n",
       "      <th>Industries</th>\n",
       "      <th>Funding amount</th>\n",
       "      <th>Funding rounds</th>\n",
       "      <th>No of investors</th>\n",
       "      <th>No of Founders</th>\n",
       "      <th>Minimum no of employees</th>\n",
       "      <th>Maximum no of employees</th>\n",
       "    </tr>\n",
       "  </thead>\n",
       "  <tbody>\n",
       "    <tr>\n",
       "      <th>11</th>\n",
       "      <td>Ola</td>\n",
       "      <td>Kormangala</td>\n",
       "      <td>2010</td>\n",
       "      <td>Apps</td>\n",
       "      <td>3808672</td>\n",
       "      <td>25</td>\n",
       "      <td>45</td>\n",
       "      <td>2</td>\n",
       "      <td>5001</td>\n",
       "      <td>10000</td>\n",
       "    </tr>\n",
       "    <tr>\n",
       "      <th>41</th>\n",
       "      <td>Flipkart</td>\n",
       "      <td>Bengaluru</td>\n",
       "      <td>2007</td>\n",
       "      <td>E-Commerce</td>\n",
       "      <td>165518505</td>\n",
       "      <td>24</td>\n",
       "      <td>24</td>\n",
       "      <td>2</td>\n",
       "      <td>51</td>\n",
       "      <td>100</td>\n",
       "    </tr>\n",
       "    <tr>\n",
       "      <th>113</th>\n",
       "      <td>Aye Finance</td>\n",
       "      <td>Gurgaon</td>\n",
       "      <td>2014</td>\n",
       "      <td>Finance</td>\n",
       "      <td>10392793</td>\n",
       "      <td>23</td>\n",
       "      <td>23</td>\n",
       "      <td>2</td>\n",
       "      <td>251</td>\n",
       "      <td>500</td>\n",
       "    </tr>\n",
       "    <tr>\n",
       "      <th>107</th>\n",
       "      <td>Zomato</td>\n",
       "      <td>Gurgaon</td>\n",
       "      <td>2008</td>\n",
       "      <td>Food</td>\n",
       "      <td>14340302</td>\n",
       "      <td>21</td>\n",
       "      <td>25</td>\n",
       "      <td>2</td>\n",
       "      <td>501</td>\n",
       "      <td>1000</td>\n",
       "    </tr>\n",
       "    <tr>\n",
       "      <th>181</th>\n",
       "      <td>VerSe Innovation</td>\n",
       "      <td>Bengaluru</td>\n",
       "      <td>2007</td>\n",
       "      <td>Content</td>\n",
       "      <td>17612830</td>\n",
       "      <td>20</td>\n",
       "      <td>10</td>\n",
       "      <td>1</td>\n",
       "      <td>1001</td>\n",
       "      <td>5000</td>\n",
       "    </tr>\n",
       "    <tr>\n",
       "      <th>...</th>\n",
       "      <td>...</td>\n",
       "      <td>...</td>\n",
       "      <td>...</td>\n",
       "      <td>...</td>\n",
       "      <td>...</td>\n",
       "      <td>...</td>\n",
       "      <td>...</td>\n",
       "      <td>...</td>\n",
       "      <td>...</td>\n",
       "      <td>...</td>\n",
       "    </tr>\n",
       "    <tr>\n",
       "      <th>177</th>\n",
       "      <td>Digital Class E-Learning Marketplace</td>\n",
       "      <td>Ahmedabad</td>\n",
       "      <td>2017</td>\n",
       "      <td>B2B</td>\n",
       "      <td>44247827</td>\n",
       "      <td>1</td>\n",
       "      <td>19</td>\n",
       "      <td>2</td>\n",
       "      <td>1001</td>\n",
       "      <td>5000</td>\n",
       "    </tr>\n",
       "    <tr>\n",
       "      <th>229</th>\n",
       "      <td>Magicbricks</td>\n",
       "      <td>Noida</td>\n",
       "      <td>2006</td>\n",
       "      <td>Commercial</td>\n",
       "      <td>824830000</td>\n",
       "      <td>1</td>\n",
       "      <td>13</td>\n",
       "      <td>3</td>\n",
       "      <td>251</td>\n",
       "      <td>500</td>\n",
       "    </tr>\n",
       "    <tr>\n",
       "      <th>259</th>\n",
       "      <td>InstantPay</td>\n",
       "      <td>Delhi</td>\n",
       "      <td>2013</td>\n",
       "      <td>E-Commerce</td>\n",
       "      <td>22685276</td>\n",
       "      <td>1</td>\n",
       "      <td>4</td>\n",
       "      <td>1</td>\n",
       "      <td>1001</td>\n",
       "      <td>5000</td>\n",
       "    </tr>\n",
       "    <tr>\n",
       "      <th>227</th>\n",
       "      <td>Amber Group</td>\n",
       "      <td>Gurgaon</td>\n",
       "      <td>1990</td>\n",
       "      <td>Consumer</td>\n",
       "      <td>317695079</td>\n",
       "      <td>1</td>\n",
       "      <td>6</td>\n",
       "      <td>2</td>\n",
       "      <td>501</td>\n",
       "      <td>1000</td>\n",
       "    </tr>\n",
       "    <tr>\n",
       "      <th>265</th>\n",
       "      <td>NODWIN Gaming</td>\n",
       "      <td>Gurgaon</td>\n",
       "      <td>2012</td>\n",
       "      <td>Events</td>\n",
       "      <td>20970000</td>\n",
       "      <td>1</td>\n",
       "      <td>8</td>\n",
       "      <td>1</td>\n",
       "      <td>11</td>\n",
       "      <td>50</td>\n",
       "    </tr>\n",
       "  </tbody>\n",
       "</table>\n",
       "<p>277 rows × 10 columns</p>\n",
       "</div>"
      ],
      "text/plain": [
       "                                   Company       Cities  Year of starting  \\\n",
       "11                                     Ola   Kormangala              2010   \n",
       "41                                Flipkart    Bengaluru              2007   \n",
       "113                            Aye Finance      Gurgaon              2014   \n",
       "107                                 Zomato      Gurgaon              2008   \n",
       "181                       VerSe Innovation    Bengaluru              2007   \n",
       "..                                     ...          ...               ...   \n",
       "177   Digital Class E-Learning Marketplace    Ahmedabad              2017   \n",
       "229                            Magicbricks        Noida              2006   \n",
       "259                             InstantPay        Delhi              2013   \n",
       "227                            Amber Group      Gurgaon              1990   \n",
       "265                          NODWIN Gaming      Gurgaon              2012   \n",
       "\n",
       "     Industries  Funding amount  Funding rounds  No of investors  \\\n",
       "11         Apps         3808672              25               45   \n",
       "41   E-Commerce       165518505              24               24   \n",
       "113     Finance        10392793              23               23   \n",
       "107        Food        14340302              21               25   \n",
       "181     Content        17612830              20               10   \n",
       "..          ...             ...             ...              ...   \n",
       "177         B2B        44247827               1               19   \n",
       "229  Commercial       824830000               1               13   \n",
       "259  E-Commerce        22685276               1                4   \n",
       "227    Consumer       317695079               1                6   \n",
       "265      Events        20970000               1                8   \n",
       "\n",
       "     No of Founders  Minimum no of employees  Maximum no of employees  \n",
       "11                2                     5001                    10000  \n",
       "41                2                       51                      100  \n",
       "113               2                      251                      500  \n",
       "107               2                      501                     1000  \n",
       "181               1                     1001                     5000  \n",
       "..              ...                      ...                      ...  \n",
       "177               2                     1001                     5000  \n",
       "229               3                      251                      500  \n",
       "259               1                     1001                     5000  \n",
       "227               2                      501                     1000  \n",
       "265               1                       11                       50  \n",
       "\n",
       "[277 rows x 10 columns]"
      ]
     },
     "execution_count": 397,
     "metadata": {},
     "output_type": "execute_result"
    }
   ],
   "source": [
    "fundingsort=data.sort_values(by=\"Funding rounds\",ascending=False)\n",
    "fundingsort"
   ]
  },
  {
   "cell_type": "code",
   "execution_count": 402,
   "id": "85b67577",
   "metadata": {},
   "outputs": [
    {
     "data": {
      "application/vnd.plotly.v1+json": {
       "config": {
        "linkText": "Export to plot.ly",
        "plotlyServerURL": "https://plot.ly",
        "showLink": false
       },
       "data": [
        {
         "line": {
          "color": "black"
         },
         "name": "Funding rounds in start up companies",
         "opacity": 0.6,
         "type": "scatter",
         "x": [
          " Ola",
          " Flipkart",
          " Aye Finance",
          " Zomato",
          " VerSe Innovation",
          " ZoomCar",
          " Rebel Foods",
          " BYJU",
          " OYO",
          " BigBasket",
          " Furlenco",
          " 1mg",
          " Reliance Jio",
          " Dunzo",
          " MobiKwik",
          " RentoMojo",
          " Swiggy",
          " Bira 91",
          " Shuttl",
          " Nykaa",
          " Grofers",
          " Snapdeal",
          " One97",
          " RAW Pressery",
          " Lendingkart",
          " Quikr",
          " ReNew Power",
          " Urban Company",
          " Northern Arc",
          " Capital Float",
          " Unacademy",
          " ShopClues",
          " Milkbasket",
          " Rivigo",
          " Delhivery",
          " Toppr",
          " NoBroker",
          " Purplle",
          " CropIn",
          " cure.fit",
          " Niki",
          " Classplus",
          " ShareChat",
          " Treebo Hotels",
          " Urban Ladder",
          " PharmEasy",
          " ZestMoney",
          " Mswipe Technologies",
          " Chai Point",
          " Box8",
          " HomeLane",
          " Pepperfry",
          " Country Delight",
          " Freshtohome",
          " Rapido",
          " GoMechanic",
          " Blackbuck",
          " Kinara Capital",
          " Livspace",
          " Housing.com",
          " Zivame.com",
          " Pine Labs",
          " FabAlley",
          " LetsTransport",
          " CarTrade",
          " HungerBox",
          " Jumbotail",
          " InCred",
          " Xpressbees",
          " MyGlamm",
          " slice",
          " BharatPe",
          " Practo",
          " CarDekho",
          " Droom",
          " Five Star Business Finance",
          " Mu Sigma",
          " Happay",
          " JioSaavn",
          " Infra.Market",
          " InMobi",
          " Licious",
          " Instamojo",
          " MedPlus",
          " Trell",
          " Magicpin",
          " FreshMenu",
          " HealthifyMe",
          " Fabhotels",
          " Loadshare",
          " Razorpay",
          " Neogrowth",
          " Unbxd",
          " FreeCharge",
          " True Balance",
          " WebEngage",
          " EarlySalary",
          " OfBusiness",
          " mfine",
          " BookMyShow",
          " Virohan",
          " Cell Propulsion",
          " Ecom Express",
          " Shiprocket",
          " Fisdom",
          " Portea Medical",
          " Bombay Shaving Company",
          " Stanza Living",
          " Square Yards",
          " Chumbak",
          " Shadowfax",
          " Pee Safe",
          " Signzy",
          " Reliance Retail",
          " Locus.sh",
          " boAt",
          " Porter",
          " Arzooo.com",
          " CRED",
          " The Man Company",
          " Groww",
          " Kissht",
          " BankBazaar.com",
          " Coverfox Insurance",
          " MedGenome",
          " Pitstop",
          " Miko",
          " Avail Finance",
          " Testbook.com",
          " PhableCare",
          " Indifi Technologies",
          " BluSmart Mobility",
          " Fyle",
          " Gradeup",
          " Awign Enterprises",
          " Hopscotch",
          " Cashify",
          " Hike",
          " Pratilipi",
          " ixigo",
          " IDfy",
          " LimeRoad",
          " Wow! Momo",
          " Play Shifu",
          " DocsApp",
          " Cuemath",
          " Ather Energy",
          " Doubtnut",
          " DeHaat",
          " WinZO",
          " Chingari",
          " Spinny",
          " Digit Insurance",
          " Get My Parking",
          " Plum",
          " OPEN",
          " Mamaearth",
          " Turtlemint",
          " Jai Kisan",
          " Holisol logistics",
          " Vymo",
          " CARS24",
          " MediBuddy",
          " CityMall",
          " Bobble AI",
          " Cashfree",
          " ShopX",
          " Paytm",
          " Apna",
          " Shipsy",
          " Wysa",
          " UpGrad",
          " Synapsica",
          " Vivriti Capital",
          " Vernacular.ai",
          " Trulymadly.com",
          " LEAD School",
          " Myelin Foundry",
          " Agnikul",
          " Progcap",
          " Exotel",
          " Billdesk",
          " Yulu",
          " Cashkaro",
          " Healthkart",
          " FarMart",
          " GlowRoad",
          " Pristyn Care",
          " Medlife",
          " Embibe",
          " Airmeet",
          " Oye Rickshaw",
          " Perpule",
          " Shop101",
          " Quizizz",
          " Bharat Biotech",
          " WorkIndia",
          " KIMS Hospitals",
          " Gaana",
          " Teachmint",
          " YourStory",
          " Star Health and Allied Insurance",
          " FamPay",
          " XYXX Apparels",
          " Skyroot Aerospace",
          " Revv",
          " UrbanPiper",
          " Koo App",
          " Netmeds",
          " NiYO Solutions",
          " Chqbook",
          " KreditBee",
          " DaMENSCH",
          " nearbuy",
          " Goodera",
          " Simpl",
          " Avanse Financial Services",
          " Blue Tokai Coffee Roasters",
          " OkCredit",
          " Yellow Messenger",
          " Betterhalf",
          " Paytm Mall",
          " MyGate",
          " LocoNav",
          " CoinDCX",
          " Masai School",
          " ITILITE",
          " Stashfin",
          " Flock",
          " INDwealth",
          " Polygon (Previously Matic Network",
          " smallcase",
          " Dodla Dairy",
          " SUGAR Cosmetics",
          " QuickSell",
          " OZiva",
          " Skillmatics",
          " Kodo",
          " Setu",
          " Flatheads",
          " LeadSquared",
          " JUSPAY",
          " Paytm Payments Bank",
          " PiggyRide",
          " PlanetSpark",
          " F5 Refreshement",
          " Bimaplan",
          " Jupiter",
          " Wakefit",
          " BimaPe",
          " Saveo",
          " Upstox",
          " Pepper Content",
          " Convosight",
          " LIDO",
          " unlu",
          " InterviewBit",
          " Leap Finance",
          " WhiteHat Education Technology",
          " PropTiger",
          " PagarBook",
          " Dukaan",
          " Aknamed",
          " MyMoneyMantra",
          " Convin",
          " Lava International Limited",
          " Avataar.Me",
          " Freight Tiger",
          " Wheels Eye",
          " SleepyCat",
          " Quess Corp",
          " SBI Life",
          " Digital Class E-Learning Marketplace",
          " Magicbricks",
          " InstantPay",
          " Amber Group",
          " NODWIN Gaming"
         ],
         "y": [
          25,
          24,
          23,
          21,
          20,
          20,
          20,
          18,
          17,
          17,
          16,
          16,
          16,
          15,
          15,
          14,
          14,
          14,
          13,
          13,
          13,
          13,
          13,
          12,
          12,
          12,
          12,
          12,
          11,
          11,
          11,
          11,
          11,
          11,
          11,
          11,
          10,
          10,
          10,
          10,
          10,
          10,
          10,
          9,
          9,
          9,
          9,
          9,
          9,
          9,
          9,
          9,
          9,
          9,
          9,
          8,
          8,
          8,
          8,
          8,
          8,
          8,
          8,
          8,
          8,
          8,
          8,
          8,
          8,
          8,
          8,
          7,
          7,
          7,
          7,
          7,
          7,
          7,
          7,
          7,
          7,
          7,
          7,
          7,
          7,
          7,
          7,
          7,
          7,
          7,
          7,
          7,
          7,
          7,
          7,
          7,
          7,
          7,
          6,
          6,
          6,
          6,
          6,
          6,
          6,
          6,
          6,
          6,
          6,
          6,
          6,
          6,
          6,
          6,
          6,
          6,
          6,
          6,
          6,
          6,
          6,
          6,
          6,
          6,
          6,
          5,
          5,
          5,
          5,
          5,
          5,
          5,
          5,
          5,
          5,
          5,
          5,
          5,
          5,
          5,
          5,
          5,
          5,
          5,
          5,
          5,
          5,
          5,
          5,
          5,
          5,
          5,
          5,
          5,
          5,
          5,
          5,
          5,
          5,
          5,
          5,
          5,
          5,
          5,
          5,
          4,
          4,
          4,
          4,
          4,
          4,
          4,
          4,
          4,
          4,
          4,
          4,
          4,
          4,
          4,
          4,
          4,
          4,
          4,
          4,
          4,
          4,
          4,
          4,
          4,
          4,
          3,
          3,
          3,
          3,
          3,
          3,
          3,
          3,
          3,
          3,
          3,
          3,
          3,
          3,
          3,
          3,
          3,
          3,
          3,
          3,
          3,
          3,
          3,
          3,
          3,
          3,
          3,
          3,
          3,
          3,
          3,
          3,
          3,
          3,
          3,
          3,
          3,
          3,
          3,
          3,
          3,
          3,
          3,
          2,
          2,
          2,
          2,
          2,
          2,
          2,
          2,
          2,
          2,
          2,
          2,
          2,
          2,
          2,
          2,
          2,
          2,
          2,
          2,
          2,
          2,
          2,
          2,
          2,
          2,
          2,
          1,
          1,
          1,
          1,
          1,
          1,
          1,
          1,
          1,
          1,
          1,
          1,
          1,
          1,
          1,
          1
         ]
        }
       ],
       "layout": {
        "height": 410,
        "legend": {
         "x": 0.01,
         "xanchor": "left",
         "y": 0.99,
         "yanchor": "top"
        },
        "template": {
         "data": {
          "bar": [
           {
            "error_x": {
             "color": "#2a3f5f"
            },
            "error_y": {
             "color": "#2a3f5f"
            },
            "marker": {
             "line": {
              "color": "#E5ECF6",
              "width": 0.5
             },
             "pattern": {
              "fillmode": "overlay",
              "size": 10,
              "solidity": 0.2
             }
            },
            "type": "bar"
           }
          ],
          "barpolar": [
           {
            "marker": {
             "line": {
              "color": "#E5ECF6",
              "width": 0.5
             },
             "pattern": {
              "fillmode": "overlay",
              "size": 10,
              "solidity": 0.2
             }
            },
            "type": "barpolar"
           }
          ],
          "carpet": [
           {
            "aaxis": {
             "endlinecolor": "#2a3f5f",
             "gridcolor": "white",
             "linecolor": "white",
             "minorgridcolor": "white",
             "startlinecolor": "#2a3f5f"
            },
            "baxis": {
             "endlinecolor": "#2a3f5f",
             "gridcolor": "white",
             "linecolor": "white",
             "minorgridcolor": "white",
             "startlinecolor": "#2a3f5f"
            },
            "type": "carpet"
           }
          ],
          "choropleth": [
           {
            "colorbar": {
             "outlinewidth": 0,
             "ticks": ""
            },
            "type": "choropleth"
           }
          ],
          "contour": [
           {
            "colorbar": {
             "outlinewidth": 0,
             "ticks": ""
            },
            "colorscale": [
             [
              0,
              "#0d0887"
             ],
             [
              0.1111111111111111,
              "#46039f"
             ],
             [
              0.2222222222222222,
              "#7201a8"
             ],
             [
              0.3333333333333333,
              "#9c179e"
             ],
             [
              0.4444444444444444,
              "#bd3786"
             ],
             [
              0.5555555555555556,
              "#d8576b"
             ],
             [
              0.6666666666666666,
              "#ed7953"
             ],
             [
              0.7777777777777778,
              "#fb9f3a"
             ],
             [
              0.8888888888888888,
              "#fdca26"
             ],
             [
              1,
              "#f0f921"
             ]
            ],
            "type": "contour"
           }
          ],
          "contourcarpet": [
           {
            "colorbar": {
             "outlinewidth": 0,
             "ticks": ""
            },
            "type": "contourcarpet"
           }
          ],
          "heatmap": [
           {
            "colorbar": {
             "outlinewidth": 0,
             "ticks": ""
            },
            "colorscale": [
             [
              0,
              "#0d0887"
             ],
             [
              0.1111111111111111,
              "#46039f"
             ],
             [
              0.2222222222222222,
              "#7201a8"
             ],
             [
              0.3333333333333333,
              "#9c179e"
             ],
             [
              0.4444444444444444,
              "#bd3786"
             ],
             [
              0.5555555555555556,
              "#d8576b"
             ],
             [
              0.6666666666666666,
              "#ed7953"
             ],
             [
              0.7777777777777778,
              "#fb9f3a"
             ],
             [
              0.8888888888888888,
              "#fdca26"
             ],
             [
              1,
              "#f0f921"
             ]
            ],
            "type": "heatmap"
           }
          ],
          "heatmapgl": [
           {
            "colorbar": {
             "outlinewidth": 0,
             "ticks": ""
            },
            "colorscale": [
             [
              0,
              "#0d0887"
             ],
             [
              0.1111111111111111,
              "#46039f"
             ],
             [
              0.2222222222222222,
              "#7201a8"
             ],
             [
              0.3333333333333333,
              "#9c179e"
             ],
             [
              0.4444444444444444,
              "#bd3786"
             ],
             [
              0.5555555555555556,
              "#d8576b"
             ],
             [
              0.6666666666666666,
              "#ed7953"
             ],
             [
              0.7777777777777778,
              "#fb9f3a"
             ],
             [
              0.8888888888888888,
              "#fdca26"
             ],
             [
              1,
              "#f0f921"
             ]
            ],
            "type": "heatmapgl"
           }
          ],
          "histogram": [
           {
            "marker": {
             "pattern": {
              "fillmode": "overlay",
              "size": 10,
              "solidity": 0.2
             }
            },
            "type": "histogram"
           }
          ],
          "histogram2d": [
           {
            "colorbar": {
             "outlinewidth": 0,
             "ticks": ""
            },
            "colorscale": [
             [
              0,
              "#0d0887"
             ],
             [
              0.1111111111111111,
              "#46039f"
             ],
             [
              0.2222222222222222,
              "#7201a8"
             ],
             [
              0.3333333333333333,
              "#9c179e"
             ],
             [
              0.4444444444444444,
              "#bd3786"
             ],
             [
              0.5555555555555556,
              "#d8576b"
             ],
             [
              0.6666666666666666,
              "#ed7953"
             ],
             [
              0.7777777777777778,
              "#fb9f3a"
             ],
             [
              0.8888888888888888,
              "#fdca26"
             ],
             [
              1,
              "#f0f921"
             ]
            ],
            "type": "histogram2d"
           }
          ],
          "histogram2dcontour": [
           {
            "colorbar": {
             "outlinewidth": 0,
             "ticks": ""
            },
            "colorscale": [
             [
              0,
              "#0d0887"
             ],
             [
              0.1111111111111111,
              "#46039f"
             ],
             [
              0.2222222222222222,
              "#7201a8"
             ],
             [
              0.3333333333333333,
              "#9c179e"
             ],
             [
              0.4444444444444444,
              "#bd3786"
             ],
             [
              0.5555555555555556,
              "#d8576b"
             ],
             [
              0.6666666666666666,
              "#ed7953"
             ],
             [
              0.7777777777777778,
              "#fb9f3a"
             ],
             [
              0.8888888888888888,
              "#fdca26"
             ],
             [
              1,
              "#f0f921"
             ]
            ],
            "type": "histogram2dcontour"
           }
          ],
          "mesh3d": [
           {
            "colorbar": {
             "outlinewidth": 0,
             "ticks": ""
            },
            "type": "mesh3d"
           }
          ],
          "parcoords": [
           {
            "line": {
             "colorbar": {
              "outlinewidth": 0,
              "ticks": ""
             }
            },
            "type": "parcoords"
           }
          ],
          "pie": [
           {
            "automargin": true,
            "type": "pie"
           }
          ],
          "scatter": [
           {
            "fillpattern": {
             "fillmode": "overlay",
             "size": 10,
             "solidity": 0.2
            },
            "type": "scatter"
           }
          ],
          "scatter3d": [
           {
            "line": {
             "colorbar": {
              "outlinewidth": 0,
              "ticks": ""
             }
            },
            "marker": {
             "colorbar": {
              "outlinewidth": 0,
              "ticks": ""
             }
            },
            "type": "scatter3d"
           }
          ],
          "scattercarpet": [
           {
            "marker": {
             "colorbar": {
              "outlinewidth": 0,
              "ticks": ""
             }
            },
            "type": "scattercarpet"
           }
          ],
          "scattergeo": [
           {
            "marker": {
             "colorbar": {
              "outlinewidth": 0,
              "ticks": ""
             }
            },
            "type": "scattergeo"
           }
          ],
          "scattergl": [
           {
            "marker": {
             "colorbar": {
              "outlinewidth": 0,
              "ticks": ""
             }
            },
            "type": "scattergl"
           }
          ],
          "scattermapbox": [
           {
            "marker": {
             "colorbar": {
              "outlinewidth": 0,
              "ticks": ""
             }
            },
            "type": "scattermapbox"
           }
          ],
          "scatterpolar": [
           {
            "marker": {
             "colorbar": {
              "outlinewidth": 0,
              "ticks": ""
             }
            },
            "type": "scatterpolar"
           }
          ],
          "scatterpolargl": [
           {
            "marker": {
             "colorbar": {
              "outlinewidth": 0,
              "ticks": ""
             }
            },
            "type": "scatterpolargl"
           }
          ],
          "scatterternary": [
           {
            "marker": {
             "colorbar": {
              "outlinewidth": 0,
              "ticks": ""
             }
            },
            "type": "scatterternary"
           }
          ],
          "surface": [
           {
            "colorbar": {
             "outlinewidth": 0,
             "ticks": ""
            },
            "colorscale": [
             [
              0,
              "#0d0887"
             ],
             [
              0.1111111111111111,
              "#46039f"
             ],
             [
              0.2222222222222222,
              "#7201a8"
             ],
             [
              0.3333333333333333,
              "#9c179e"
             ],
             [
              0.4444444444444444,
              "#bd3786"
             ],
             [
              0.5555555555555556,
              "#d8576b"
             ],
             [
              0.6666666666666666,
              "#ed7953"
             ],
             [
              0.7777777777777778,
              "#fb9f3a"
             ],
             [
              0.8888888888888888,
              "#fdca26"
             ],
             [
              1,
              "#f0f921"
             ]
            ],
            "type": "surface"
           }
          ],
          "table": [
           {
            "cells": {
             "fill": {
              "color": "#EBF0F8"
             },
             "line": {
              "color": "white"
             }
            },
            "header": {
             "fill": {
              "color": "#C8D4E3"
             },
             "line": {
              "color": "white"
             }
            },
            "type": "table"
           }
          ]
         },
         "layout": {
          "annotationdefaults": {
           "arrowcolor": "#2a3f5f",
           "arrowhead": 0,
           "arrowwidth": 1
          },
          "autotypenumbers": "strict",
          "coloraxis": {
           "colorbar": {
            "outlinewidth": 0,
            "ticks": ""
           }
          },
          "colorscale": {
           "diverging": [
            [
             0,
             "#8e0152"
            ],
            [
             0.1,
             "#c51b7d"
            ],
            [
             0.2,
             "#de77ae"
            ],
            [
             0.3,
             "#f1b6da"
            ],
            [
             0.4,
             "#fde0ef"
            ],
            [
             0.5,
             "#f7f7f7"
            ],
            [
             0.6,
             "#e6f5d0"
            ],
            [
             0.7,
             "#b8e186"
            ],
            [
             0.8,
             "#7fbc41"
            ],
            [
             0.9,
             "#4d9221"
            ],
            [
             1,
             "#276419"
            ]
           ],
           "sequential": [
            [
             0,
             "#0d0887"
            ],
            [
             0.1111111111111111,
             "#46039f"
            ],
            [
             0.2222222222222222,
             "#7201a8"
            ],
            [
             0.3333333333333333,
             "#9c179e"
            ],
            [
             0.4444444444444444,
             "#bd3786"
            ],
            [
             0.5555555555555556,
             "#d8576b"
            ],
            [
             0.6666666666666666,
             "#ed7953"
            ],
            [
             0.7777777777777778,
             "#fb9f3a"
            ],
            [
             0.8888888888888888,
             "#fdca26"
            ],
            [
             1,
             "#f0f921"
            ]
           ],
           "sequentialminus": [
            [
             0,
             "#0d0887"
            ],
            [
             0.1111111111111111,
             "#46039f"
            ],
            [
             0.2222222222222222,
             "#7201a8"
            ],
            [
             0.3333333333333333,
             "#9c179e"
            ],
            [
             0.4444444444444444,
             "#bd3786"
            ],
            [
             0.5555555555555556,
             "#d8576b"
            ],
            [
             0.6666666666666666,
             "#ed7953"
            ],
            [
             0.7777777777777778,
             "#fb9f3a"
            ],
            [
             0.8888888888888888,
             "#fdca26"
            ],
            [
             1,
             "#f0f921"
            ]
           ]
          },
          "colorway": [
           "#636efa",
           "#EF553B",
           "#00cc96",
           "#ab63fa",
           "#FFA15A",
           "#19d3f3",
           "#FF6692",
           "#B6E880",
           "#FF97FF",
           "#FECB52"
          ],
          "font": {
           "color": "#2a3f5f"
          },
          "geo": {
           "bgcolor": "white",
           "lakecolor": "white",
           "landcolor": "#E5ECF6",
           "showlakes": true,
           "showland": true,
           "subunitcolor": "white"
          },
          "hoverlabel": {
           "align": "left"
          },
          "hovermode": "closest",
          "mapbox": {
           "style": "light"
          },
          "paper_bgcolor": "white",
          "plot_bgcolor": "#E5ECF6",
          "polar": {
           "angularaxis": {
            "gridcolor": "white",
            "linecolor": "white",
            "ticks": ""
           },
           "bgcolor": "#E5ECF6",
           "radialaxis": {
            "gridcolor": "white",
            "linecolor": "white",
            "ticks": ""
           }
          },
          "scene": {
           "xaxis": {
            "backgroundcolor": "#E5ECF6",
            "gridcolor": "white",
            "gridwidth": 2,
            "linecolor": "white",
            "showbackground": true,
            "ticks": "",
            "zerolinecolor": "white"
           },
           "yaxis": {
            "backgroundcolor": "#E5ECF6",
            "gridcolor": "white",
            "gridwidth": 2,
            "linecolor": "white",
            "showbackground": true,
            "ticks": "",
            "zerolinecolor": "white"
           },
           "zaxis": {
            "backgroundcolor": "#E5ECF6",
            "gridcolor": "white",
            "gridwidth": 2,
            "linecolor": "white",
            "showbackground": true,
            "ticks": "",
            "zerolinecolor": "white"
           }
          },
          "shapedefaults": {
           "line": {
            "color": "#2a3f5f"
           }
          },
          "ternary": {
           "aaxis": {
            "gridcolor": "white",
            "linecolor": "white",
            "ticks": ""
           },
           "baxis": {
            "gridcolor": "white",
            "linecolor": "white",
            "ticks": ""
           },
           "bgcolor": "#E5ECF6",
           "caxis": {
            "gridcolor": "white",
            "linecolor": "white",
            "ticks": ""
           }
          },
          "title": {
           "x": 0.05
          },
          "xaxis": {
           "automargin": true,
           "gridcolor": "white",
           "linecolor": "white",
           "ticks": "",
           "title": {
            "standoff": 15
           },
           "zerolinecolor": "white",
           "zerolinewidth": 2
          },
          "yaxis": {
           "automargin": true,
           "gridcolor": "white",
           "linecolor": "white",
           "ticks": "",
           "title": {
            "standoff": 15
           },
           "zerolinecolor": "white",
           "zerolinewidth": 2
          }
         }
        },
        "title": {
         "text": "Funding rounds in start up companies"
        },
        "width": 1900,
        "xaxis": {
         "title": {
          "text": "companies"
         }
        },
        "yaxis": {
         "title": {
          "text": "funding rounds"
         }
        }
       }
      },
      "text/html": [
       "<div>                            <div id=\"20c98143-8d1f-4b66-ab04-8a3f68c70e9f\" class=\"plotly-graph-div\" style=\"height:410px; width:1900px;\"></div>            <script type=\"text/javascript\">                require([\"plotly\"], function(Plotly) {                    window.PLOTLYENV=window.PLOTLYENV || {};                                    if (document.getElementById(\"20c98143-8d1f-4b66-ab04-8a3f68c70e9f\")) {                    Plotly.newPlot(                        \"20c98143-8d1f-4b66-ab04-8a3f68c70e9f\",                        [{\"line\":{\"color\":\"black\"},\"name\":\"Funding rounds in start up companies\",\"opacity\":0.6,\"x\":[\" Ola\",\" Flipkart\",\" Aye Finance\",\" Zomato\",\" VerSe Innovation\",\" ZoomCar\",\" Rebel Foods\",\" BYJU\",\" OYO\",\" BigBasket\",\" Furlenco\",\" 1mg\",\" Reliance Jio\",\" Dunzo\",\" MobiKwik\",\" RentoMojo\",\" Swiggy\",\" Bira 91\",\" Shuttl\",\" Nykaa\",\" Grofers\",\" Snapdeal\",\" One97\",\" RAW Pressery\",\" Lendingkart\",\" Quikr\",\" ReNew Power\",\" Urban Company\",\" Northern Arc\",\" Capital Float\",\" Unacademy\",\" ShopClues\",\" Milkbasket\",\" Rivigo\",\" Delhivery\",\" Toppr\",\" NoBroker\",\" Purplle\",\" CropIn\",\" cure.fit\",\" Niki\",\" Classplus\",\" ShareChat\",\" Treebo Hotels\",\" Urban Ladder\",\" PharmEasy\",\" ZestMoney\",\" Mswipe Technologies\",\" Chai Point\",\" Box8\",\" HomeLane\",\" Pepperfry\",\" Country Delight\",\" Freshtohome\",\" Rapido\",\" GoMechanic\",\" Blackbuck\",\" Kinara Capital\",\" Livspace\",\" Housing.com\",\" Zivame.com\",\" Pine Labs\",\" FabAlley\",\" LetsTransport\",\" CarTrade\",\" HungerBox\",\" Jumbotail\",\" InCred\",\" Xpressbees\",\" MyGlamm\",\" slice\",\" BharatPe\",\" Practo\",\" CarDekho\",\" Droom\",\" Five Star Business Finance\",\" Mu Sigma\",\" Happay\",\" JioSaavn\",\" Infra.Market\",\" InMobi\",\" Licious\",\" Instamojo\",\" MedPlus\",\" Trell\",\" Magicpin\",\" FreshMenu\",\" HealthifyMe\",\" Fabhotels\",\" Loadshare\",\" Razorpay\",\" Neogrowth\",\" Unbxd\",\" FreeCharge\",\" True Balance\",\" WebEngage\",\" EarlySalary\",\" OfBusiness\",\" mfine\",\" BookMyShow\",\" Virohan\",\" Cell Propulsion\",\" Ecom Express\",\" Shiprocket\",\" Fisdom\",\" Portea Medical\",\" Bombay Shaving Company\",\" Stanza Living\",\" Square Yards\",\" Chumbak\",\" Shadowfax\",\" Pee Safe\",\" Signzy\",\" Reliance Retail\",\" Locus.sh\",\" boAt\",\" Porter\",\" Arzooo.com\",\" CRED\",\" The Man Company\",\" Groww\",\" Kissht\",\" BankBazaar.com\",\" Coverfox Insurance\",\" MedGenome\",\" Pitstop\",\" Miko\",\" Avail Finance\",\" Testbook.com\",\" PhableCare\",\" Indifi Technologies\",\" BluSmart Mobility\",\" Fyle\",\" Gradeup\",\" Awign Enterprises\",\" Hopscotch\",\" Cashify\",\" Hike\",\" Pratilipi\",\" ixigo\",\" IDfy\",\" LimeRoad\",\" Wow! Momo\",\" Play Shifu\",\" DocsApp\",\" Cuemath\",\" Ather Energy\",\" Doubtnut\",\" DeHaat\",\" WinZO\",\" Chingari\",\" Spinny\",\" Digit Insurance\",\" Get My Parking\",\" Plum\",\" OPEN\",\" Mamaearth\",\" Turtlemint\",\" Jai Kisan\",\" Holisol logistics\",\" Vymo\",\" CARS24\",\" MediBuddy\",\" CityMall\",\" Bobble AI\",\" Cashfree\",\" ShopX\",\" Paytm\",\" Apna\",\" Shipsy\",\" Wysa\",\" UpGrad\",\" Synapsica\",\" Vivriti Capital\",\" Vernacular.ai\",\" Trulymadly.com\",\" LEAD School\",\" Myelin Foundry\",\" Agnikul\",\" Progcap\",\" Exotel\",\" Billdesk\",\" Yulu\",\" Cashkaro\",\" Healthkart\",\" FarMart\",\" GlowRoad\",\" Pristyn Care\",\" Medlife\",\" Embibe\",\" Airmeet\",\" Oye Rickshaw\",\" Perpule\",\" Shop101\",\" Quizizz\",\" Bharat Biotech\",\" WorkIndia\",\" KIMS Hospitals\",\" Gaana\",\" Teachmint\",\" YourStory\",\" Star Health and Allied Insurance\",\" FamPay\",\" XYXX Apparels\",\" Skyroot Aerospace\",\" Revv\",\" UrbanPiper\",\" Koo App\",\" Netmeds\",\" NiYO Solutions\",\" Chqbook\",\" KreditBee\",\" DaMENSCH\",\" nearbuy\",\" Goodera\",\" Simpl\",\" Avanse Financial Services\",\" Blue Tokai Coffee Roasters\",\" OkCredit\",\" Yellow Messenger\",\" Betterhalf\",\" Paytm Mall\",\" MyGate\",\" LocoNav\",\" CoinDCX\",\" Masai School\",\" ITILITE\",\" Stashfin\",\" Flock\",\" INDwealth\",\" Polygon (Previously Matic Network\",\" smallcase\",\" Dodla Dairy\",\" SUGAR Cosmetics\",\" QuickSell\",\" OZiva\",\" Skillmatics\",\" Kodo\",\" Setu\",\" Flatheads\",\" LeadSquared\",\" JUSPAY\",\" Paytm Payments Bank\",\" PiggyRide\",\" PlanetSpark\",\" F5 Refreshement\",\" Bimaplan\",\" Jupiter\",\" Wakefit\",\" BimaPe\",\" Saveo\",\" Upstox\",\" Pepper Content\",\" Convosight\",\" LIDO\",\" unlu\",\" InterviewBit\",\" Leap Finance\",\" WhiteHat Education Technology\",\" PropTiger\",\" PagarBook\",\" Dukaan\",\" Aknamed\",\" MyMoneyMantra\",\" Convin\",\" Lava International Limited\",\" Avataar.Me\",\" Freight Tiger\",\" Wheels Eye\",\" SleepyCat\",\" Quess Corp\",\" SBI Life\",\" Digital Class E-Learning Marketplace\",\" Magicbricks\",\" InstantPay\",\" Amber Group\",\" NODWIN Gaming\"],\"y\":[25,24,23,21,20,20,20,18,17,17,16,16,16,15,15,14,14,14,13,13,13,13,13,12,12,12,12,12,11,11,11,11,11,11,11,11,10,10,10,10,10,10,10,9,9,9,9,9,9,9,9,9,9,9,9,8,8,8,8,8,8,8,8,8,8,8,8,8,8,8,8,7,7,7,7,7,7,7,7,7,7,7,7,7,7,7,7,7,7,7,7,7,7,7,7,7,7,7,6,6,6,6,6,6,6,6,6,6,6,6,6,6,6,6,6,6,6,6,6,6,6,6,6,6,6,5,5,5,5,5,5,5,5,5,5,5,5,5,5,5,5,5,5,5,5,5,5,5,5,5,5,5,5,5,5,5,5,5,5,5,5,5,5,5,5,4,4,4,4,4,4,4,4,4,4,4,4,4,4,4,4,4,4,4,4,4,4,4,4,4,4,3,3,3,3,3,3,3,3,3,3,3,3,3,3,3,3,3,3,3,3,3,3,3,3,3,3,3,3,3,3,3,3,3,3,3,3,3,3,3,3,3,3,3,2,2,2,2,2,2,2,2,2,2,2,2,2,2,2,2,2,2,2,2,2,2,2,2,2,2,2,1,1,1,1,1,1,1,1,1,1,1,1,1,1,1,1],\"type\":\"scatter\"}],                        {\"height\":410,\"legend\":{\"x\":0.01,\"xanchor\":\"left\",\"y\":0.99,\"yanchor\":\"top\"},\"template\":{\"data\":{\"barpolar\":[{\"marker\":{\"line\":{\"color\":\"#E5ECF6\",\"width\":0.5},\"pattern\":{\"fillmode\":\"overlay\",\"size\":10,\"solidity\":0.2}},\"type\":\"barpolar\"}],\"bar\":[{\"error_x\":{\"color\":\"#2a3f5f\"},\"error_y\":{\"color\":\"#2a3f5f\"},\"marker\":{\"line\":{\"color\":\"#E5ECF6\",\"width\":0.5},\"pattern\":{\"fillmode\":\"overlay\",\"size\":10,\"solidity\":0.2}},\"type\":\"bar\"}],\"carpet\":[{\"aaxis\":{\"endlinecolor\":\"#2a3f5f\",\"gridcolor\":\"white\",\"linecolor\":\"white\",\"minorgridcolor\":\"white\",\"startlinecolor\":\"#2a3f5f\"},\"baxis\":{\"endlinecolor\":\"#2a3f5f\",\"gridcolor\":\"white\",\"linecolor\":\"white\",\"minorgridcolor\":\"white\",\"startlinecolor\":\"#2a3f5f\"},\"type\":\"carpet\"}],\"choropleth\":[{\"colorbar\":{\"outlinewidth\":0,\"ticks\":\"\"},\"type\":\"choropleth\"}],\"contourcarpet\":[{\"colorbar\":{\"outlinewidth\":0,\"ticks\":\"\"},\"type\":\"contourcarpet\"}],\"contour\":[{\"colorbar\":{\"outlinewidth\":0,\"ticks\":\"\"},\"colorscale\":[[0.0,\"#0d0887\"],[0.1111111111111111,\"#46039f\"],[0.2222222222222222,\"#7201a8\"],[0.3333333333333333,\"#9c179e\"],[0.4444444444444444,\"#bd3786\"],[0.5555555555555556,\"#d8576b\"],[0.6666666666666666,\"#ed7953\"],[0.7777777777777778,\"#fb9f3a\"],[0.8888888888888888,\"#fdca26\"],[1.0,\"#f0f921\"]],\"type\":\"contour\"}],\"heatmapgl\":[{\"colorbar\":{\"outlinewidth\":0,\"ticks\":\"\"},\"colorscale\":[[0.0,\"#0d0887\"],[0.1111111111111111,\"#46039f\"],[0.2222222222222222,\"#7201a8\"],[0.3333333333333333,\"#9c179e\"],[0.4444444444444444,\"#bd3786\"],[0.5555555555555556,\"#d8576b\"],[0.6666666666666666,\"#ed7953\"],[0.7777777777777778,\"#fb9f3a\"],[0.8888888888888888,\"#fdca26\"],[1.0,\"#f0f921\"]],\"type\":\"heatmapgl\"}],\"heatmap\":[{\"colorbar\":{\"outlinewidth\":0,\"ticks\":\"\"},\"colorscale\":[[0.0,\"#0d0887\"],[0.1111111111111111,\"#46039f\"],[0.2222222222222222,\"#7201a8\"],[0.3333333333333333,\"#9c179e\"],[0.4444444444444444,\"#bd3786\"],[0.5555555555555556,\"#d8576b\"],[0.6666666666666666,\"#ed7953\"],[0.7777777777777778,\"#fb9f3a\"],[0.8888888888888888,\"#fdca26\"],[1.0,\"#f0f921\"]],\"type\":\"heatmap\"}],\"histogram2dcontour\":[{\"colorbar\":{\"outlinewidth\":0,\"ticks\":\"\"},\"colorscale\":[[0.0,\"#0d0887\"],[0.1111111111111111,\"#46039f\"],[0.2222222222222222,\"#7201a8\"],[0.3333333333333333,\"#9c179e\"],[0.4444444444444444,\"#bd3786\"],[0.5555555555555556,\"#d8576b\"],[0.6666666666666666,\"#ed7953\"],[0.7777777777777778,\"#fb9f3a\"],[0.8888888888888888,\"#fdca26\"],[1.0,\"#f0f921\"]],\"type\":\"histogram2dcontour\"}],\"histogram2d\":[{\"colorbar\":{\"outlinewidth\":0,\"ticks\":\"\"},\"colorscale\":[[0.0,\"#0d0887\"],[0.1111111111111111,\"#46039f\"],[0.2222222222222222,\"#7201a8\"],[0.3333333333333333,\"#9c179e\"],[0.4444444444444444,\"#bd3786\"],[0.5555555555555556,\"#d8576b\"],[0.6666666666666666,\"#ed7953\"],[0.7777777777777778,\"#fb9f3a\"],[0.8888888888888888,\"#fdca26\"],[1.0,\"#f0f921\"]],\"type\":\"histogram2d\"}],\"histogram\":[{\"marker\":{\"pattern\":{\"fillmode\":\"overlay\",\"size\":10,\"solidity\":0.2}},\"type\":\"histogram\"}],\"mesh3d\":[{\"colorbar\":{\"outlinewidth\":0,\"ticks\":\"\"},\"type\":\"mesh3d\"}],\"parcoords\":[{\"line\":{\"colorbar\":{\"outlinewidth\":0,\"ticks\":\"\"}},\"type\":\"parcoords\"}],\"pie\":[{\"automargin\":true,\"type\":\"pie\"}],\"scatter3d\":[{\"line\":{\"colorbar\":{\"outlinewidth\":0,\"ticks\":\"\"}},\"marker\":{\"colorbar\":{\"outlinewidth\":0,\"ticks\":\"\"}},\"type\":\"scatter3d\"}],\"scattercarpet\":[{\"marker\":{\"colorbar\":{\"outlinewidth\":0,\"ticks\":\"\"}},\"type\":\"scattercarpet\"}],\"scattergeo\":[{\"marker\":{\"colorbar\":{\"outlinewidth\":0,\"ticks\":\"\"}},\"type\":\"scattergeo\"}],\"scattergl\":[{\"marker\":{\"colorbar\":{\"outlinewidth\":0,\"ticks\":\"\"}},\"type\":\"scattergl\"}],\"scattermapbox\":[{\"marker\":{\"colorbar\":{\"outlinewidth\":0,\"ticks\":\"\"}},\"type\":\"scattermapbox\"}],\"scatterpolargl\":[{\"marker\":{\"colorbar\":{\"outlinewidth\":0,\"ticks\":\"\"}},\"type\":\"scatterpolargl\"}],\"scatterpolar\":[{\"marker\":{\"colorbar\":{\"outlinewidth\":0,\"ticks\":\"\"}},\"type\":\"scatterpolar\"}],\"scatter\":[{\"fillpattern\":{\"fillmode\":\"overlay\",\"size\":10,\"solidity\":0.2},\"type\":\"scatter\"}],\"scatterternary\":[{\"marker\":{\"colorbar\":{\"outlinewidth\":0,\"ticks\":\"\"}},\"type\":\"scatterternary\"}],\"surface\":[{\"colorbar\":{\"outlinewidth\":0,\"ticks\":\"\"},\"colorscale\":[[0.0,\"#0d0887\"],[0.1111111111111111,\"#46039f\"],[0.2222222222222222,\"#7201a8\"],[0.3333333333333333,\"#9c179e\"],[0.4444444444444444,\"#bd3786\"],[0.5555555555555556,\"#d8576b\"],[0.6666666666666666,\"#ed7953\"],[0.7777777777777778,\"#fb9f3a\"],[0.8888888888888888,\"#fdca26\"],[1.0,\"#f0f921\"]],\"type\":\"surface\"}],\"table\":[{\"cells\":{\"fill\":{\"color\":\"#EBF0F8\"},\"line\":{\"color\":\"white\"}},\"header\":{\"fill\":{\"color\":\"#C8D4E3\"},\"line\":{\"color\":\"white\"}},\"type\":\"table\"}]},\"layout\":{\"annotationdefaults\":{\"arrowcolor\":\"#2a3f5f\",\"arrowhead\":0,\"arrowwidth\":1},\"autotypenumbers\":\"strict\",\"coloraxis\":{\"colorbar\":{\"outlinewidth\":0,\"ticks\":\"\"}},\"colorscale\":{\"diverging\":[[0,\"#8e0152\"],[0.1,\"#c51b7d\"],[0.2,\"#de77ae\"],[0.3,\"#f1b6da\"],[0.4,\"#fde0ef\"],[0.5,\"#f7f7f7\"],[0.6,\"#e6f5d0\"],[0.7,\"#b8e186\"],[0.8,\"#7fbc41\"],[0.9,\"#4d9221\"],[1,\"#276419\"]],\"sequential\":[[0.0,\"#0d0887\"],[0.1111111111111111,\"#46039f\"],[0.2222222222222222,\"#7201a8\"],[0.3333333333333333,\"#9c179e\"],[0.4444444444444444,\"#bd3786\"],[0.5555555555555556,\"#d8576b\"],[0.6666666666666666,\"#ed7953\"],[0.7777777777777778,\"#fb9f3a\"],[0.8888888888888888,\"#fdca26\"],[1.0,\"#f0f921\"]],\"sequentialminus\":[[0.0,\"#0d0887\"],[0.1111111111111111,\"#46039f\"],[0.2222222222222222,\"#7201a8\"],[0.3333333333333333,\"#9c179e\"],[0.4444444444444444,\"#bd3786\"],[0.5555555555555556,\"#d8576b\"],[0.6666666666666666,\"#ed7953\"],[0.7777777777777778,\"#fb9f3a\"],[0.8888888888888888,\"#fdca26\"],[1.0,\"#f0f921\"]]},\"colorway\":[\"#636efa\",\"#EF553B\",\"#00cc96\",\"#ab63fa\",\"#FFA15A\",\"#19d3f3\",\"#FF6692\",\"#B6E880\",\"#FF97FF\",\"#FECB52\"],\"font\":{\"color\":\"#2a3f5f\"},\"geo\":{\"bgcolor\":\"white\",\"lakecolor\":\"white\",\"landcolor\":\"#E5ECF6\",\"showlakes\":true,\"showland\":true,\"subunitcolor\":\"white\"},\"hoverlabel\":{\"align\":\"left\"},\"hovermode\":\"closest\",\"mapbox\":{\"style\":\"light\"},\"paper_bgcolor\":\"white\",\"plot_bgcolor\":\"#E5ECF6\",\"polar\":{\"angularaxis\":{\"gridcolor\":\"white\",\"linecolor\":\"white\",\"ticks\":\"\"},\"bgcolor\":\"#E5ECF6\",\"radialaxis\":{\"gridcolor\":\"white\",\"linecolor\":\"white\",\"ticks\":\"\"}},\"scene\":{\"xaxis\":{\"backgroundcolor\":\"#E5ECF6\",\"gridcolor\":\"white\",\"gridwidth\":2,\"linecolor\":\"white\",\"showbackground\":true,\"ticks\":\"\",\"zerolinecolor\":\"white\"},\"yaxis\":{\"backgroundcolor\":\"#E5ECF6\",\"gridcolor\":\"white\",\"gridwidth\":2,\"linecolor\":\"white\",\"showbackground\":true,\"ticks\":\"\",\"zerolinecolor\":\"white\"},\"zaxis\":{\"backgroundcolor\":\"#E5ECF6\",\"gridcolor\":\"white\",\"gridwidth\":2,\"linecolor\":\"white\",\"showbackground\":true,\"ticks\":\"\",\"zerolinecolor\":\"white\"}},\"shapedefaults\":{\"line\":{\"color\":\"#2a3f5f\"}},\"ternary\":{\"aaxis\":{\"gridcolor\":\"white\",\"linecolor\":\"white\",\"ticks\":\"\"},\"baxis\":{\"gridcolor\":\"white\",\"linecolor\":\"white\",\"ticks\":\"\"},\"bgcolor\":\"#E5ECF6\",\"caxis\":{\"gridcolor\":\"white\",\"linecolor\":\"white\",\"ticks\":\"\"}},\"title\":{\"x\":0.05},\"xaxis\":{\"automargin\":true,\"gridcolor\":\"white\",\"linecolor\":\"white\",\"ticks\":\"\",\"title\":{\"standoff\":15},\"zerolinecolor\":\"white\",\"zerolinewidth\":2},\"yaxis\":{\"automargin\":true,\"gridcolor\":\"white\",\"linecolor\":\"white\",\"ticks\":\"\",\"title\":{\"standoff\":15},\"zerolinecolor\":\"white\",\"zerolinewidth\":2}}},\"title\":{\"text\":\"Funding rounds in start up companies\"},\"width\":1900,\"xaxis\":{\"title\":{\"text\":\"companies\"}},\"yaxis\":{\"title\":{\"text\":\"funding rounds\"}}},                        {\"responsive\": true}                    ).then(function(){\n",
       "                            \n",
       "var gd = document.getElementById('20c98143-8d1f-4b66-ab04-8a3f68c70e9f');\n",
       "var x = new MutationObserver(function (mutations, observer) {{\n",
       "        var display = window.getComputedStyle(gd).display;\n",
       "        if (!display || display === 'none') {{\n",
       "            console.log([gd, 'removed!']);\n",
       "            Plotly.purge(gd);\n",
       "            observer.disconnect();\n",
       "        }}\n",
       "}});\n",
       "\n",
       "// Listen for the removal of the full notebook cells\n",
       "var notebookContainer = gd.closest('#notebook-container');\n",
       "if (notebookContainer) {{\n",
       "    x.observe(notebookContainer, {childList: true});\n",
       "}}\n",
       "\n",
       "// Listen for the clearing of the current output cell\n",
       "var outputEl = gd.closest('.output');\n",
       "if (outputEl) {{\n",
       "    x.observe(outputEl, {childList: true});\n",
       "}}\n",
       "\n",
       "                        })                };                });            </script>        </div>"
      ]
     },
     "metadata": {},
     "output_type": "display_data"
    }
   ],
   "source": [
    "trace=go.Scatter(x=fundingsort[\"Company\"],\n",
    "                y=fundingsort[\"Funding rounds\"],\n",
    "                name=\"Funding rounds in start up companies\",\n",
    "                line=dict(color=\"black\"),\n",
    "                opacity=0.6)\n",
    "layout=dict(title=\"Funding rounds in start up companies\",\n",
    "             width=1900,\n",
    "             height=410,\n",
    "             xaxis_title=\"companies\",\n",
    "             yaxis_title=\"funding rounds\",\n",
    "             legend=dict(\n",
    "                  yanchor=\"top\",\n",
    "                  y=0.99,\n",
    "                  xanchor=\"left\",\n",
    "                  x=0.01)\n",
    "           )\n",
    "fig=dict(data=[trace],\n",
    "        layout=layout)\n",
    "iplot(fig)\n"
   ]
  },
  {
   "cell_type": "markdown",
   "id": "90819e6d",
   "metadata": {},
   "source": [
    "# 2.4 which company has more number of investors"
   ]
  },
  {
   "cell_type": "code",
   "execution_count": 403,
   "id": "3c8f1c31",
   "metadata": {},
   "outputs": [
    {
     "data": {
      "text/html": [
       "<div>\n",
       "<style scoped>\n",
       "    .dataframe tbody tr th:only-of-type {\n",
       "        vertical-align: middle;\n",
       "    }\n",
       "\n",
       "    .dataframe tbody tr th {\n",
       "        vertical-align: top;\n",
       "    }\n",
       "\n",
       "    .dataframe thead th {\n",
       "        text-align: right;\n",
       "    }\n",
       "</style>\n",
       "<table border=\"1\" class=\"dataframe\">\n",
       "  <thead>\n",
       "    <tr style=\"text-align: right;\">\n",
       "      <th></th>\n",
       "      <th>Company</th>\n",
       "      <th>Cities</th>\n",
       "      <th>Year of starting</th>\n",
       "      <th>Industries</th>\n",
       "      <th>Funding amount</th>\n",
       "      <th>Funding rounds</th>\n",
       "      <th>No of investors</th>\n",
       "      <th>No of Founders</th>\n",
       "      <th>Minimum no of employees</th>\n",
       "      <th>Maximum no of employees</th>\n",
       "    </tr>\n",
       "  </thead>\n",
       "  <tbody>\n",
       "    <tr>\n",
       "      <th>11</th>\n",
       "      <td>Ola</td>\n",
       "      <td>Kormangala</td>\n",
       "      <td>2010</td>\n",
       "      <td>Apps</td>\n",
       "      <td>3808672</td>\n",
       "      <td>25</td>\n",
       "      <td>45</td>\n",
       "      <td>2</td>\n",
       "      <td>5001</td>\n",
       "      <td>10000</td>\n",
       "    </tr>\n",
       "    <tr>\n",
       "      <th>23</th>\n",
       "      <td>BYJU</td>\n",
       "      <td>Bengaluru</td>\n",
       "      <td>2011</td>\n",
       "      <td>E-Learning</td>\n",
       "      <td>2745964</td>\n",
       "      <td>18</td>\n",
       "      <td>38</td>\n",
       "      <td>2</td>\n",
       "      <td>251</td>\n",
       "      <td>500</td>\n",
       "    </tr>\n",
       "    <tr>\n",
       "      <th>50</th>\n",
       "      <td>ZoomCar</td>\n",
       "      <td>Bengaluru</td>\n",
       "      <td>2012</td>\n",
       "      <td>Automotive</td>\n",
       "      <td>1776260</td>\n",
       "      <td>20</td>\n",
       "      <td>36</td>\n",
       "      <td>2</td>\n",
       "      <td>1001</td>\n",
       "      <td>5000</td>\n",
       "    </tr>\n",
       "    <tr>\n",
       "      <th>10</th>\n",
       "      <td>Unacademy</td>\n",
       "      <td>Bengaluru</td>\n",
       "      <td>2015</td>\n",
       "      <td>E-Learning</td>\n",
       "      <td>398500000</td>\n",
       "      <td>11</td>\n",
       "      <td>36</td>\n",
       "      <td>4</td>\n",
       "      <td>251</td>\n",
       "      <td>500</td>\n",
       "    </tr>\n",
       "    <tr>\n",
       "      <th>32</th>\n",
       "      <td>Reliance Jio</td>\n",
       "      <td>Mumbai</td>\n",
       "      <td>2010</td>\n",
       "      <td>Apps</td>\n",
       "      <td>24767620</td>\n",
       "      <td>16</td>\n",
       "      <td>35</td>\n",
       "      <td>1</td>\n",
       "      <td>11</td>\n",
       "      <td>50</td>\n",
       "    </tr>\n",
       "    <tr>\n",
       "      <th>...</th>\n",
       "      <td>...</td>\n",
       "      <td>...</td>\n",
       "      <td>...</td>\n",
       "      <td>...</td>\n",
       "      <td>...</td>\n",
       "      <td>...</td>\n",
       "      <td>...</td>\n",
       "      <td>...</td>\n",
       "      <td>...</td>\n",
       "      <td>...</td>\n",
       "    </tr>\n",
       "    <tr>\n",
       "      <th>228</th>\n",
       "      <td>Star Health and Allied Insurance</td>\n",
       "      <td>Nungambakkam</td>\n",
       "      <td>2006</td>\n",
       "      <td>Health</td>\n",
       "      <td>5100000</td>\n",
       "      <td>3</td>\n",
       "      <td>1</td>\n",
       "      <td>3</td>\n",
       "      <td>101</td>\n",
       "      <td>250</td>\n",
       "    </tr>\n",
       "    <tr>\n",
       "      <th>264</th>\n",
       "      <td>FreshMenu</td>\n",
       "      <td>Bengaluru</td>\n",
       "      <td>2014</td>\n",
       "      <td>Delivery</td>\n",
       "      <td>40833000</td>\n",
       "      <td>7</td>\n",
       "      <td>1</td>\n",
       "      <td>1</td>\n",
       "      <td>251</td>\n",
       "      <td>500</td>\n",
       "    </tr>\n",
       "    <tr>\n",
       "      <th>139</th>\n",
       "      <td>Lava International Limited</td>\n",
       "      <td>Noida</td>\n",
       "      <td>2009</td>\n",
       "      <td>Consumer</td>\n",
       "      <td>2428380</td>\n",
       "      <td>1</td>\n",
       "      <td>1</td>\n",
       "      <td>3</td>\n",
       "      <td>101</td>\n",
       "      <td>250</td>\n",
       "    </tr>\n",
       "    <tr>\n",
       "      <th>198</th>\n",
       "      <td>LocoNav</td>\n",
       "      <td>Azadpur</td>\n",
       "      <td>2015</td>\n",
       "      <td>Computer</td>\n",
       "      <td>48598636</td>\n",
       "      <td>3</td>\n",
       "      <td>1</td>\n",
       "      <td>3</td>\n",
       "      <td>11</td>\n",
       "      <td>50</td>\n",
       "    </tr>\n",
       "    <tr>\n",
       "      <th>190</th>\n",
       "      <td>ShopClues</td>\n",
       "      <td>Gurgaon</td>\n",
       "      <td>2011</td>\n",
       "      <td>E-Commerce</td>\n",
       "      <td>56417592</td>\n",
       "      <td>11</td>\n",
       "      <td>1</td>\n",
       "      <td>1</td>\n",
       "      <td>51</td>\n",
       "      <td>100</td>\n",
       "    </tr>\n",
       "  </tbody>\n",
       "</table>\n",
       "<p>277 rows × 10 columns</p>\n",
       "</div>"
      ],
      "text/plain": [
       "                               Company         Cities  Year of starting  \\\n",
       "11                                 Ola     Kormangala              2010   \n",
       "23                                BYJU      Bengaluru              2011   \n",
       "50                             ZoomCar      Bengaluru              2012   \n",
       "10                           Unacademy      Bengaluru              2015   \n",
       "32                        Reliance Jio         Mumbai              2010   \n",
       "..                                 ...            ...               ...   \n",
       "228   Star Health and Allied Insurance   Nungambakkam              2006   \n",
       "264                          FreshMenu      Bengaluru              2014   \n",
       "139         Lava International Limited          Noida              2009   \n",
       "198                            LocoNav        Azadpur              2015   \n",
       "190                          ShopClues        Gurgaon              2011   \n",
       "\n",
       "     Industries  Funding amount  Funding rounds  No of investors  \\\n",
       "11         Apps         3808672              25               45   \n",
       "23   E-Learning         2745964              18               38   \n",
       "50   Automotive         1776260              20               36   \n",
       "10   E-Learning       398500000              11               36   \n",
       "32         Apps        24767620              16               35   \n",
       "..          ...             ...             ...              ...   \n",
       "228      Health         5100000               3                1   \n",
       "264    Delivery        40833000               7                1   \n",
       "139    Consumer         2428380               1                1   \n",
       "198    Computer        48598636               3                1   \n",
       "190  E-Commerce        56417592              11                1   \n",
       "\n",
       "     No of Founders  Minimum no of employees  Maximum no of employees  \n",
       "11                2                     5001                    10000  \n",
       "23                2                      251                      500  \n",
       "50                2                     1001                     5000  \n",
       "10                4                      251                      500  \n",
       "32                1                       11                       50  \n",
       "..              ...                      ...                      ...  \n",
       "228               3                      101                      250  \n",
       "264               1                      251                      500  \n",
       "139               3                      101                      250  \n",
       "198               3                       11                       50  \n",
       "190               1                       51                      100  \n",
       "\n",
       "[277 rows x 10 columns]"
      ]
     },
     "execution_count": 403,
     "metadata": {},
     "output_type": "execute_result"
    }
   ],
   "source": [
    "investmentsort=data.sort_values(by=\"No of investors\",ascending=False)\n",
    "investmentsort"
   ]
  },
  {
   "cell_type": "code",
   "execution_count": 404,
   "id": "485d53d1",
   "metadata": {},
   "outputs": [
    {
     "data": {
      "application/vnd.plotly.v1+json": {
       "config": {
        "linkText": "Export to plot.ly",
        "plotlyServerURL": "https://plot.ly",
        "showLink": false
       },
       "data": [
        {
         "line": {
          "color": "black"
         },
         "name": "No of investors in start up companies",
         "opacity": 0.6,
         "type": "scatter",
         "x": [
          " Ola",
          " BYJU",
          " ZoomCar",
          " Unacademy",
          " Reliance Jio",
          " cure.fit",
          " Rapido",
          " Trell",
          " Razorpay",
          " CRED",
          " Bimaplan",
          " PharmEasy",
          " MobiKwik",
          " Snapdeal",
          " Locus.sh",
          " Zomato",
          " Dunzo",
          " Healthkart",
          " Flipkart",
          " Aye Finance",
          " HungerBox",
          " Swiggy",
          " Fyle",
          " Plum",
          " Freshtohome",
          " Shuttl",
          " Zivame.com",
          " CARS24",
          " Furlenco",
          " Avataar.Me",
          " Airmeet",
          " Classplus",
          " Jumbotail",
          " Licious",
          " slice",
          " Digital Class E-Learning Marketplace",
          " Rebel Foods",
          " Pepper Content",
          " Milkbasket",
          " FabAlley",
          " Chingari",
          " Jai Kisan",
          " Saveo",
          " InCred",
          " Agnikul",
          " FamPay",
          " Vernacular.ai",
          " BigBasket",
          " 1mg",
          " Livspace",
          " HealthifyMe",
          " BharatPe",
          " Housing.com",
          " Pee Safe",
          " Country Delight",
          " Bombay Shaving Company",
          " Treebo Hotels",
          " Urban Company",
          " Groww",
          " Paytm Mall",
          " Purplle",
          " One97",
          " ZestMoney",
          " Quikr",
          " Pine Labs",
          " Lendingkart",
          " Indifi Technologies",
          " Nykaa",
          " Stashfin",
          " CityMall",
          " Practo",
          " Toppr",
          " Instamojo",
          " MyGlamm",
          " Kinara Capital",
          " CarDekho",
          " Mswipe Technologies",
          " Blackbuck",
          " JioSaavn",
          " ShareChat",
          " Magicbricks",
          " Shadowfax",
          " Spinny",
          " Grofers",
          " Dodla Dairy",
          " OfBusiness",
          " Delhivery",
          " NoBroker",
          " True Balance",
          " OPEN",
          " Wheels Eye",
          " WinZO",
          " Flatheads",
          " MediBuddy",
          " Stanza Living",
          " Kissht",
          " HomeLane",
          " Magicpin",
          " LimeRoad",
          " Capital Float",
          " EarlySalary",
          " LetsTransport",
          " Northern Arc",
          " F5 Refreshement",
          " Cashkaro",
          " Shiprocket",
          " Awign Enterprises",
          " smallcase",
          " Oye Rickshaw",
          " mfine",
          " SBI Life",
          " DocsApp",
          " Xpressbees",
          " Square Yards",
          " IDfy",
          " Aknamed",
          " Droom",
          " InterviewBit",
          " VerSe Innovation",
          " ITILITE",
          " Betterhalf",
          " OZiva",
          " Cashify",
          " Portea Medical",
          " Hike",
          " Miko",
          " Play Shifu",
          " Urban Ladder",
          " Turtlemint",
          " Doubtnut",
          " Koo App",
          " Fabhotels",
          " Virohan",
          " Yulu",
          " PropTiger",
          " Arzooo.com",
          " Wysa",
          " Progcap",
          " Skyroot Aerospace",
          " ReNew Power",
          " MedGenome",
          " Dukaan",
          " MyGate",
          " GoMechanic",
          " CarTrade",
          " Avail Finance",
          " Exotel",
          " Shipsy",
          " DeHaat",
          " Infra.Market",
          " Cuemath",
          " BankBazaar.com",
          " Happay",
          " Pepperfry",
          " Reliance Retail",
          " Mamaearth",
          " FreeCharge",
          " INDwealth",
          " Get My Parking",
          " Chqbook",
          " Unbxd",
          " NODWIN Gaming",
          " Quess Corp",
          " MedPlus",
          " WorkIndia",
          " GlowRoad",
          " Fisdom",
          " Gradeup",
          " Billdesk",
          " Testbook.com",
          " CropIn",
          " PiggyRide",
          " Convin",
          " KreditBee",
          " LIDO",
          " Signzy",
          " InMobi",
          " Apna",
          " Myelin Foundry",
          " Simpl",
          " Cashfree",
          " Porter",
          " Coverfox Insurance",
          " PlanetSpark",
          " Leap Finance",
          " YourStory",
          " Amber Group",
          " Shop101",
          " Gaana",
          " SUGAR Cosmetics",
          " FarMart",
          " BookMyShow",
          " Wow! Momo",
          " QuickSell",
          " OkCredit",
          " ixigo",
          " Rivigo",
          " Chai Point",
          " CoinDCX",
          " Cell Propulsion",
          " Five Star Business Finance",
          " Quizizz",
          " WebEngage",
          " Mu Sigma",
          " JUSPAY",
          " OYO",
          " Kodo",
          " Pristyn Care",
          " Perpule",
          " BimaPe",
          " boAt",
          " Ather Energy",
          " Goodera",
          " NiYO Solutions",
          " Vymo",
          " The Man Company",
          " Convosight",
          " Jupiter",
          " Synapsica",
          " Teachmint",
          " Neogrowth",
          " Ecom Express",
          " Niki",
          " Paytm",
          " UpGrad",
          " Holisol logistics",
          " Polygon (Previously Matic Network",
          " Trulymadly.com",
          " InstantPay",
          " Hopscotch",
          " Chumbak",
          " RAW Pressery",
          " Setu",
          " Digit Insurance",
          " SleepyCat",
          " PhableCare",
          " Revv",
          " Netmeds",
          " Bira 91",
          " Embibe",
          " Masai School",
          " Freight Tiger",
          " KIMS Hospitals",
          " PagarBook",
          " Medlife",
          " Yellow Messenger",
          " LEAD School",
          " Bobble AI",
          " XYXX Apparels",
          " unlu",
          " Box8",
          " ShopX",
          " Pratilipi",
          " Avanse Financial Services",
          " UrbanPiper",
          " WhiteHat Education Technology",
          " Bharat Biotech",
          " LeadSquared",
          " Wakefit",
          " Upstox",
          " BluSmart Mobility",
          " Loadshare",
          " Blue Tokai Coffee Roasters",
          " Flock",
          " MyMoneyMantra",
          " nearbuy",
          " Skillmatics",
          " Paytm Payments Bank",
          " Vivriti Capital",
          " RentoMojo",
          " DaMENSCH",
          " Pitstop",
          " Star Health and Allied Insurance",
          " FreshMenu",
          " Lava International Limited",
          " LocoNav",
          " ShopClues"
         ],
         "y": [
          45,
          38,
          36,
          36,
          35,
          33,
          32,
          31,
          29,
          28,
          27,
          26,
          26,
          26,
          25,
          25,
          24,
          24,
          24,
          23,
          23,
          23,
          23,
          23,
          23,
          22,
          22,
          21,
          21,
          20,
          20,
          20,
          20,
          20,
          20,
          19,
          19,
          19,
          18,
          18,
          18,
          18,
          17,
          17,
          17,
          17,
          17,
          17,
          17,
          17,
          17,
          17,
          16,
          16,
          16,
          16,
          16,
          16,
          16,
          16,
          15,
          15,
          15,
          15,
          15,
          15,
          15,
          15,
          14,
          14,
          14,
          14,
          14,
          14,
          14,
          14,
          14,
          13,
          13,
          13,
          13,
          13,
          13,
          13,
          13,
          13,
          13,
          13,
          13,
          13,
          13,
          12,
          12,
          12,
          12,
          12,
          12,
          12,
          12,
          12,
          12,
          12,
          12,
          12,
          12,
          12,
          11,
          11,
          11,
          11,
          11,
          11,
          11,
          11,
          10,
          10,
          10,
          10,
          10,
          10,
          10,
          10,
          10,
          10,
          10,
          10,
          10,
          10,
          10,
          10,
          10,
          9,
          9,
          9,
          9,
          9,
          9,
          9,
          9,
          9,
          9,
          9,
          9,
          9,
          9,
          8,
          8,
          8,
          8,
          8,
          8,
          8,
          8,
          8,
          8,
          8,
          8,
          8,
          8,
          8,
          8,
          8,
          8,
          8,
          8,
          7,
          7,
          7,
          7,
          7,
          7,
          7,
          7,
          7,
          7,
          7,
          6,
          6,
          6,
          6,
          6,
          6,
          6,
          6,
          6,
          6,
          6,
          6,
          6,
          6,
          6,
          6,
          6,
          6,
          6,
          6,
          6,
          6,
          6,
          6,
          6,
          6,
          5,
          5,
          5,
          5,
          5,
          5,
          5,
          5,
          5,
          5,
          5,
          5,
          5,
          5,
          5,
          5,
          5,
          5,
          4,
          4,
          4,
          4,
          4,
          4,
          4,
          4,
          4,
          4,
          4,
          4,
          4,
          4,
          4,
          4,
          4,
          4,
          4,
          4,
          4,
          4,
          4,
          4,
          3,
          3,
          3,
          3,
          3,
          3,
          3,
          3,
          3,
          3,
          3,
          3,
          3,
          3,
          3,
          3,
          3,
          2,
          2,
          2,
          2,
          2,
          2,
          2,
          2,
          2,
          2,
          1,
          1,
          1,
          1,
          1,
          1
         ]
        }
       ],
       "layout": {
        "height": 410,
        "legend": {
         "x": 0.01,
         "xanchor": "left",
         "y": 0.99,
         "yanchor": "top"
        },
        "template": {
         "data": {
          "bar": [
           {
            "error_x": {
             "color": "#2a3f5f"
            },
            "error_y": {
             "color": "#2a3f5f"
            },
            "marker": {
             "line": {
              "color": "#E5ECF6",
              "width": 0.5
             },
             "pattern": {
              "fillmode": "overlay",
              "size": 10,
              "solidity": 0.2
             }
            },
            "type": "bar"
           }
          ],
          "barpolar": [
           {
            "marker": {
             "line": {
              "color": "#E5ECF6",
              "width": 0.5
             },
             "pattern": {
              "fillmode": "overlay",
              "size": 10,
              "solidity": 0.2
             }
            },
            "type": "barpolar"
           }
          ],
          "carpet": [
           {
            "aaxis": {
             "endlinecolor": "#2a3f5f",
             "gridcolor": "white",
             "linecolor": "white",
             "minorgridcolor": "white",
             "startlinecolor": "#2a3f5f"
            },
            "baxis": {
             "endlinecolor": "#2a3f5f",
             "gridcolor": "white",
             "linecolor": "white",
             "minorgridcolor": "white",
             "startlinecolor": "#2a3f5f"
            },
            "type": "carpet"
           }
          ],
          "choropleth": [
           {
            "colorbar": {
             "outlinewidth": 0,
             "ticks": ""
            },
            "type": "choropleth"
           }
          ],
          "contour": [
           {
            "colorbar": {
             "outlinewidth": 0,
             "ticks": ""
            },
            "colorscale": [
             [
              0,
              "#0d0887"
             ],
             [
              0.1111111111111111,
              "#46039f"
             ],
             [
              0.2222222222222222,
              "#7201a8"
             ],
             [
              0.3333333333333333,
              "#9c179e"
             ],
             [
              0.4444444444444444,
              "#bd3786"
             ],
             [
              0.5555555555555556,
              "#d8576b"
             ],
             [
              0.6666666666666666,
              "#ed7953"
             ],
             [
              0.7777777777777778,
              "#fb9f3a"
             ],
             [
              0.8888888888888888,
              "#fdca26"
             ],
             [
              1,
              "#f0f921"
             ]
            ],
            "type": "contour"
           }
          ],
          "contourcarpet": [
           {
            "colorbar": {
             "outlinewidth": 0,
             "ticks": ""
            },
            "type": "contourcarpet"
           }
          ],
          "heatmap": [
           {
            "colorbar": {
             "outlinewidth": 0,
             "ticks": ""
            },
            "colorscale": [
             [
              0,
              "#0d0887"
             ],
             [
              0.1111111111111111,
              "#46039f"
             ],
             [
              0.2222222222222222,
              "#7201a8"
             ],
             [
              0.3333333333333333,
              "#9c179e"
             ],
             [
              0.4444444444444444,
              "#bd3786"
             ],
             [
              0.5555555555555556,
              "#d8576b"
             ],
             [
              0.6666666666666666,
              "#ed7953"
             ],
             [
              0.7777777777777778,
              "#fb9f3a"
             ],
             [
              0.8888888888888888,
              "#fdca26"
             ],
             [
              1,
              "#f0f921"
             ]
            ],
            "type": "heatmap"
           }
          ],
          "heatmapgl": [
           {
            "colorbar": {
             "outlinewidth": 0,
             "ticks": ""
            },
            "colorscale": [
             [
              0,
              "#0d0887"
             ],
             [
              0.1111111111111111,
              "#46039f"
             ],
             [
              0.2222222222222222,
              "#7201a8"
             ],
             [
              0.3333333333333333,
              "#9c179e"
             ],
             [
              0.4444444444444444,
              "#bd3786"
             ],
             [
              0.5555555555555556,
              "#d8576b"
             ],
             [
              0.6666666666666666,
              "#ed7953"
             ],
             [
              0.7777777777777778,
              "#fb9f3a"
             ],
             [
              0.8888888888888888,
              "#fdca26"
             ],
             [
              1,
              "#f0f921"
             ]
            ],
            "type": "heatmapgl"
           }
          ],
          "histogram": [
           {
            "marker": {
             "pattern": {
              "fillmode": "overlay",
              "size": 10,
              "solidity": 0.2
             }
            },
            "type": "histogram"
           }
          ],
          "histogram2d": [
           {
            "colorbar": {
             "outlinewidth": 0,
             "ticks": ""
            },
            "colorscale": [
             [
              0,
              "#0d0887"
             ],
             [
              0.1111111111111111,
              "#46039f"
             ],
             [
              0.2222222222222222,
              "#7201a8"
             ],
             [
              0.3333333333333333,
              "#9c179e"
             ],
             [
              0.4444444444444444,
              "#bd3786"
             ],
             [
              0.5555555555555556,
              "#d8576b"
             ],
             [
              0.6666666666666666,
              "#ed7953"
             ],
             [
              0.7777777777777778,
              "#fb9f3a"
             ],
             [
              0.8888888888888888,
              "#fdca26"
             ],
             [
              1,
              "#f0f921"
             ]
            ],
            "type": "histogram2d"
           }
          ],
          "histogram2dcontour": [
           {
            "colorbar": {
             "outlinewidth": 0,
             "ticks": ""
            },
            "colorscale": [
             [
              0,
              "#0d0887"
             ],
             [
              0.1111111111111111,
              "#46039f"
             ],
             [
              0.2222222222222222,
              "#7201a8"
             ],
             [
              0.3333333333333333,
              "#9c179e"
             ],
             [
              0.4444444444444444,
              "#bd3786"
             ],
             [
              0.5555555555555556,
              "#d8576b"
             ],
             [
              0.6666666666666666,
              "#ed7953"
             ],
             [
              0.7777777777777778,
              "#fb9f3a"
             ],
             [
              0.8888888888888888,
              "#fdca26"
             ],
             [
              1,
              "#f0f921"
             ]
            ],
            "type": "histogram2dcontour"
           }
          ],
          "mesh3d": [
           {
            "colorbar": {
             "outlinewidth": 0,
             "ticks": ""
            },
            "type": "mesh3d"
           }
          ],
          "parcoords": [
           {
            "line": {
             "colorbar": {
              "outlinewidth": 0,
              "ticks": ""
             }
            },
            "type": "parcoords"
           }
          ],
          "pie": [
           {
            "automargin": true,
            "type": "pie"
           }
          ],
          "scatter": [
           {
            "fillpattern": {
             "fillmode": "overlay",
             "size": 10,
             "solidity": 0.2
            },
            "type": "scatter"
           }
          ],
          "scatter3d": [
           {
            "line": {
             "colorbar": {
              "outlinewidth": 0,
              "ticks": ""
             }
            },
            "marker": {
             "colorbar": {
              "outlinewidth": 0,
              "ticks": ""
             }
            },
            "type": "scatter3d"
           }
          ],
          "scattercarpet": [
           {
            "marker": {
             "colorbar": {
              "outlinewidth": 0,
              "ticks": ""
             }
            },
            "type": "scattercarpet"
           }
          ],
          "scattergeo": [
           {
            "marker": {
             "colorbar": {
              "outlinewidth": 0,
              "ticks": ""
             }
            },
            "type": "scattergeo"
           }
          ],
          "scattergl": [
           {
            "marker": {
             "colorbar": {
              "outlinewidth": 0,
              "ticks": ""
             }
            },
            "type": "scattergl"
           }
          ],
          "scattermapbox": [
           {
            "marker": {
             "colorbar": {
              "outlinewidth": 0,
              "ticks": ""
             }
            },
            "type": "scattermapbox"
           }
          ],
          "scatterpolar": [
           {
            "marker": {
             "colorbar": {
              "outlinewidth": 0,
              "ticks": ""
             }
            },
            "type": "scatterpolar"
           }
          ],
          "scatterpolargl": [
           {
            "marker": {
             "colorbar": {
              "outlinewidth": 0,
              "ticks": ""
             }
            },
            "type": "scatterpolargl"
           }
          ],
          "scatterternary": [
           {
            "marker": {
             "colorbar": {
              "outlinewidth": 0,
              "ticks": ""
             }
            },
            "type": "scatterternary"
           }
          ],
          "surface": [
           {
            "colorbar": {
             "outlinewidth": 0,
             "ticks": ""
            },
            "colorscale": [
             [
              0,
              "#0d0887"
             ],
             [
              0.1111111111111111,
              "#46039f"
             ],
             [
              0.2222222222222222,
              "#7201a8"
             ],
             [
              0.3333333333333333,
              "#9c179e"
             ],
             [
              0.4444444444444444,
              "#bd3786"
             ],
             [
              0.5555555555555556,
              "#d8576b"
             ],
             [
              0.6666666666666666,
              "#ed7953"
             ],
             [
              0.7777777777777778,
              "#fb9f3a"
             ],
             [
              0.8888888888888888,
              "#fdca26"
             ],
             [
              1,
              "#f0f921"
             ]
            ],
            "type": "surface"
           }
          ],
          "table": [
           {
            "cells": {
             "fill": {
              "color": "#EBF0F8"
             },
             "line": {
              "color": "white"
             }
            },
            "header": {
             "fill": {
              "color": "#C8D4E3"
             },
             "line": {
              "color": "white"
             }
            },
            "type": "table"
           }
          ]
         },
         "layout": {
          "annotationdefaults": {
           "arrowcolor": "#2a3f5f",
           "arrowhead": 0,
           "arrowwidth": 1
          },
          "autotypenumbers": "strict",
          "coloraxis": {
           "colorbar": {
            "outlinewidth": 0,
            "ticks": ""
           }
          },
          "colorscale": {
           "diverging": [
            [
             0,
             "#8e0152"
            ],
            [
             0.1,
             "#c51b7d"
            ],
            [
             0.2,
             "#de77ae"
            ],
            [
             0.3,
             "#f1b6da"
            ],
            [
             0.4,
             "#fde0ef"
            ],
            [
             0.5,
             "#f7f7f7"
            ],
            [
             0.6,
             "#e6f5d0"
            ],
            [
             0.7,
             "#b8e186"
            ],
            [
             0.8,
             "#7fbc41"
            ],
            [
             0.9,
             "#4d9221"
            ],
            [
             1,
             "#276419"
            ]
           ],
           "sequential": [
            [
             0,
             "#0d0887"
            ],
            [
             0.1111111111111111,
             "#46039f"
            ],
            [
             0.2222222222222222,
             "#7201a8"
            ],
            [
             0.3333333333333333,
             "#9c179e"
            ],
            [
             0.4444444444444444,
             "#bd3786"
            ],
            [
             0.5555555555555556,
             "#d8576b"
            ],
            [
             0.6666666666666666,
             "#ed7953"
            ],
            [
             0.7777777777777778,
             "#fb9f3a"
            ],
            [
             0.8888888888888888,
             "#fdca26"
            ],
            [
             1,
             "#f0f921"
            ]
           ],
           "sequentialminus": [
            [
             0,
             "#0d0887"
            ],
            [
             0.1111111111111111,
             "#46039f"
            ],
            [
             0.2222222222222222,
             "#7201a8"
            ],
            [
             0.3333333333333333,
             "#9c179e"
            ],
            [
             0.4444444444444444,
             "#bd3786"
            ],
            [
             0.5555555555555556,
             "#d8576b"
            ],
            [
             0.6666666666666666,
             "#ed7953"
            ],
            [
             0.7777777777777778,
             "#fb9f3a"
            ],
            [
             0.8888888888888888,
             "#fdca26"
            ],
            [
             1,
             "#f0f921"
            ]
           ]
          },
          "colorway": [
           "#636efa",
           "#EF553B",
           "#00cc96",
           "#ab63fa",
           "#FFA15A",
           "#19d3f3",
           "#FF6692",
           "#B6E880",
           "#FF97FF",
           "#FECB52"
          ],
          "font": {
           "color": "#2a3f5f"
          },
          "geo": {
           "bgcolor": "white",
           "lakecolor": "white",
           "landcolor": "#E5ECF6",
           "showlakes": true,
           "showland": true,
           "subunitcolor": "white"
          },
          "hoverlabel": {
           "align": "left"
          },
          "hovermode": "closest",
          "mapbox": {
           "style": "light"
          },
          "paper_bgcolor": "white",
          "plot_bgcolor": "#E5ECF6",
          "polar": {
           "angularaxis": {
            "gridcolor": "white",
            "linecolor": "white",
            "ticks": ""
           },
           "bgcolor": "#E5ECF6",
           "radialaxis": {
            "gridcolor": "white",
            "linecolor": "white",
            "ticks": ""
           }
          },
          "scene": {
           "xaxis": {
            "backgroundcolor": "#E5ECF6",
            "gridcolor": "white",
            "gridwidth": 2,
            "linecolor": "white",
            "showbackground": true,
            "ticks": "",
            "zerolinecolor": "white"
           },
           "yaxis": {
            "backgroundcolor": "#E5ECF6",
            "gridcolor": "white",
            "gridwidth": 2,
            "linecolor": "white",
            "showbackground": true,
            "ticks": "",
            "zerolinecolor": "white"
           },
           "zaxis": {
            "backgroundcolor": "#E5ECF6",
            "gridcolor": "white",
            "gridwidth": 2,
            "linecolor": "white",
            "showbackground": true,
            "ticks": "",
            "zerolinecolor": "white"
           }
          },
          "shapedefaults": {
           "line": {
            "color": "#2a3f5f"
           }
          },
          "ternary": {
           "aaxis": {
            "gridcolor": "white",
            "linecolor": "white",
            "ticks": ""
           },
           "baxis": {
            "gridcolor": "white",
            "linecolor": "white",
            "ticks": ""
           },
           "bgcolor": "#E5ECF6",
           "caxis": {
            "gridcolor": "white",
            "linecolor": "white",
            "ticks": ""
           }
          },
          "title": {
           "x": 0.05
          },
          "xaxis": {
           "automargin": true,
           "gridcolor": "white",
           "linecolor": "white",
           "ticks": "",
           "title": {
            "standoff": 15
           },
           "zerolinecolor": "white",
           "zerolinewidth": 2
          },
          "yaxis": {
           "automargin": true,
           "gridcolor": "white",
           "linecolor": "white",
           "ticks": "",
           "title": {
            "standoff": 15
           },
           "zerolinecolor": "white",
           "zerolinewidth": 2
          }
         }
        },
        "title": {
         "text": "Investors in start up companies"
        },
        "width": 1900,
        "xaxis": {
         "title": {
          "text": "companies"
         }
        },
        "yaxis": {
         "title": {
          "text": "No of investors"
         }
        }
       }
      },
      "text/html": [
       "<div>                            <div id=\"d323424e-0398-4d22-9004-f0f3957b84cc\" class=\"plotly-graph-div\" style=\"height:410px; width:1900px;\"></div>            <script type=\"text/javascript\">                require([\"plotly\"], function(Plotly) {                    window.PLOTLYENV=window.PLOTLYENV || {};                                    if (document.getElementById(\"d323424e-0398-4d22-9004-f0f3957b84cc\")) {                    Plotly.newPlot(                        \"d323424e-0398-4d22-9004-f0f3957b84cc\",                        [{\"line\":{\"color\":\"black\"},\"name\":\"No of investors in start up companies\",\"opacity\":0.6,\"x\":[\" Ola\",\" BYJU\",\" ZoomCar\",\" Unacademy\",\" Reliance Jio\",\" cure.fit\",\" Rapido\",\" Trell\",\" Razorpay\",\" CRED\",\" Bimaplan\",\" PharmEasy\",\" MobiKwik\",\" Snapdeal\",\" Locus.sh\",\" Zomato\",\" Dunzo\",\" Healthkart\",\" Flipkart\",\" Aye Finance\",\" HungerBox\",\" Swiggy\",\" Fyle\",\" Plum\",\" Freshtohome\",\" Shuttl\",\" Zivame.com\",\" CARS24\",\" Furlenco\",\" Avataar.Me\",\" Airmeet\",\" Classplus\",\" Jumbotail\",\" Licious\",\" slice\",\" Digital Class E-Learning Marketplace\",\" Rebel Foods\",\" Pepper Content\",\" Milkbasket\",\" FabAlley\",\" Chingari\",\" Jai Kisan\",\" Saveo\",\" InCred\",\" Agnikul\",\" FamPay\",\" Vernacular.ai\",\" BigBasket\",\" 1mg\",\" Livspace\",\" HealthifyMe\",\" BharatPe\",\" Housing.com\",\" Pee Safe\",\" Country Delight\",\" Bombay Shaving Company\",\" Treebo Hotels\",\" Urban Company\",\" Groww\",\" Paytm Mall\",\" Purplle\",\" One97\",\" ZestMoney\",\" Quikr\",\" Pine Labs\",\" Lendingkart\",\" Indifi Technologies\",\" Nykaa\",\" Stashfin\",\" CityMall\",\" Practo\",\" Toppr\",\" Instamojo\",\" MyGlamm\",\" Kinara Capital\",\" CarDekho\",\" Mswipe Technologies\",\" Blackbuck\",\" JioSaavn\",\" ShareChat\",\" Magicbricks\",\" Shadowfax\",\" Spinny\",\" Grofers\",\" Dodla Dairy\",\" OfBusiness\",\" Delhivery\",\" NoBroker\",\" True Balance\",\" OPEN\",\" Wheels Eye\",\" WinZO\",\" Flatheads\",\" MediBuddy\",\" Stanza Living\",\" Kissht\",\" HomeLane\",\" Magicpin\",\" LimeRoad\",\" Capital Float\",\" EarlySalary\",\" LetsTransport\",\" Northern Arc\",\" F5 Refreshement\",\" Cashkaro\",\" Shiprocket\",\" Awign Enterprises\",\" smallcase\",\" Oye Rickshaw\",\" mfine\",\" SBI Life\",\" DocsApp\",\" Xpressbees\",\" Square Yards\",\" IDfy\",\" Aknamed\",\" Droom\",\" InterviewBit\",\" VerSe Innovation\",\" ITILITE\",\" Betterhalf\",\" OZiva\",\" Cashify\",\" Portea Medical\",\" Hike\",\" Miko\",\" Play Shifu\",\" Urban Ladder\",\" Turtlemint\",\" Doubtnut\",\" Koo App\",\" Fabhotels\",\" Virohan\",\" Yulu\",\" PropTiger\",\" Arzooo.com\",\" Wysa\",\" Progcap\",\" Skyroot Aerospace\",\" ReNew Power\",\" MedGenome\",\" Dukaan\",\" MyGate\",\" GoMechanic\",\" CarTrade\",\" Avail Finance\",\" Exotel\",\" Shipsy\",\" DeHaat\",\" Infra.Market\",\" Cuemath\",\" BankBazaar.com\",\" Happay\",\" Pepperfry\",\" Reliance Retail\",\" Mamaearth\",\" FreeCharge\",\" INDwealth\",\" Get My Parking\",\" Chqbook\",\" Unbxd\",\" NODWIN Gaming\",\" Quess Corp\",\" MedPlus\",\" WorkIndia\",\" GlowRoad\",\" Fisdom\",\" Gradeup\",\" Billdesk\",\" Testbook.com\",\" CropIn\",\" PiggyRide\",\" Convin\",\" KreditBee\",\" LIDO\",\" Signzy\",\" InMobi\",\" Apna\",\" Myelin Foundry\",\" Simpl\",\" Cashfree\",\" Porter\",\" Coverfox Insurance\",\" PlanetSpark\",\" Leap Finance\",\" YourStory\",\" Amber Group\",\" Shop101\",\" Gaana\",\" SUGAR Cosmetics\",\" FarMart\",\" BookMyShow\",\" Wow! Momo\",\" QuickSell\",\" OkCredit\",\" ixigo\",\" Rivigo\",\" Chai Point\",\" CoinDCX\",\" Cell Propulsion\",\" Five Star Business Finance\",\" Quizizz\",\" WebEngage\",\" Mu Sigma\",\" JUSPAY\",\" OYO\",\" Kodo\",\" Pristyn Care\",\" Perpule\",\" BimaPe\",\" boAt\",\" Ather Energy\",\" Goodera\",\" NiYO Solutions\",\" Vymo\",\" The Man Company\",\" Convosight\",\" Jupiter\",\" Synapsica\",\" Teachmint\",\" Neogrowth\",\" Ecom Express\",\" Niki\",\" Paytm\",\" UpGrad\",\" Holisol logistics\",\" Polygon (Previously Matic Network\",\" Trulymadly.com\",\" InstantPay\",\" Hopscotch\",\" Chumbak\",\" RAW Pressery\",\" Setu\",\" Digit Insurance\",\" SleepyCat\",\" PhableCare\",\" Revv\",\" Netmeds\",\" Bira 91\",\" Embibe\",\" Masai School\",\" Freight Tiger\",\" KIMS Hospitals\",\" PagarBook\",\" Medlife\",\" Yellow Messenger\",\" LEAD School\",\" Bobble AI\",\" XYXX Apparels\",\" unlu\",\" Box8\",\" ShopX\",\" Pratilipi\",\" Avanse Financial Services\",\" UrbanPiper\",\" WhiteHat Education Technology\",\" Bharat Biotech\",\" LeadSquared\",\" Wakefit\",\" Upstox\",\" BluSmart Mobility\",\" Loadshare\",\" Blue Tokai Coffee Roasters\",\" Flock\",\" MyMoneyMantra\",\" nearbuy\",\" Skillmatics\",\" Paytm Payments Bank\",\" Vivriti Capital\",\" RentoMojo\",\" DaMENSCH\",\" Pitstop\",\" Star Health and Allied Insurance\",\" FreshMenu\",\" Lava International Limited\",\" LocoNav\",\" ShopClues\"],\"y\":[45,38,36,36,35,33,32,31,29,28,27,26,26,26,25,25,24,24,24,23,23,23,23,23,23,22,22,21,21,20,20,20,20,20,20,19,19,19,18,18,18,18,17,17,17,17,17,17,17,17,17,17,16,16,16,16,16,16,16,16,15,15,15,15,15,15,15,15,14,14,14,14,14,14,14,14,14,13,13,13,13,13,13,13,13,13,13,13,13,13,13,12,12,12,12,12,12,12,12,12,12,12,12,12,12,12,11,11,11,11,11,11,11,11,10,10,10,10,10,10,10,10,10,10,10,10,10,10,10,10,10,9,9,9,9,9,9,9,9,9,9,9,9,9,9,8,8,8,8,8,8,8,8,8,8,8,8,8,8,8,8,8,8,8,8,7,7,7,7,7,7,7,7,7,7,7,6,6,6,6,6,6,6,6,6,6,6,6,6,6,6,6,6,6,6,6,6,6,6,6,6,6,5,5,5,5,5,5,5,5,5,5,5,5,5,5,5,5,5,5,4,4,4,4,4,4,4,4,4,4,4,4,4,4,4,4,4,4,4,4,4,4,4,4,3,3,3,3,3,3,3,3,3,3,3,3,3,3,3,3,3,2,2,2,2,2,2,2,2,2,2,1,1,1,1,1,1],\"type\":\"scatter\"}],                        {\"height\":410,\"legend\":{\"x\":0.01,\"xanchor\":\"left\",\"y\":0.99,\"yanchor\":\"top\"},\"template\":{\"data\":{\"barpolar\":[{\"marker\":{\"line\":{\"color\":\"#E5ECF6\",\"width\":0.5},\"pattern\":{\"fillmode\":\"overlay\",\"size\":10,\"solidity\":0.2}},\"type\":\"barpolar\"}],\"bar\":[{\"error_x\":{\"color\":\"#2a3f5f\"},\"error_y\":{\"color\":\"#2a3f5f\"},\"marker\":{\"line\":{\"color\":\"#E5ECF6\",\"width\":0.5},\"pattern\":{\"fillmode\":\"overlay\",\"size\":10,\"solidity\":0.2}},\"type\":\"bar\"}],\"carpet\":[{\"aaxis\":{\"endlinecolor\":\"#2a3f5f\",\"gridcolor\":\"white\",\"linecolor\":\"white\",\"minorgridcolor\":\"white\",\"startlinecolor\":\"#2a3f5f\"},\"baxis\":{\"endlinecolor\":\"#2a3f5f\",\"gridcolor\":\"white\",\"linecolor\":\"white\",\"minorgridcolor\":\"white\",\"startlinecolor\":\"#2a3f5f\"},\"type\":\"carpet\"}],\"choropleth\":[{\"colorbar\":{\"outlinewidth\":0,\"ticks\":\"\"},\"type\":\"choropleth\"}],\"contourcarpet\":[{\"colorbar\":{\"outlinewidth\":0,\"ticks\":\"\"},\"type\":\"contourcarpet\"}],\"contour\":[{\"colorbar\":{\"outlinewidth\":0,\"ticks\":\"\"},\"colorscale\":[[0.0,\"#0d0887\"],[0.1111111111111111,\"#46039f\"],[0.2222222222222222,\"#7201a8\"],[0.3333333333333333,\"#9c179e\"],[0.4444444444444444,\"#bd3786\"],[0.5555555555555556,\"#d8576b\"],[0.6666666666666666,\"#ed7953\"],[0.7777777777777778,\"#fb9f3a\"],[0.8888888888888888,\"#fdca26\"],[1.0,\"#f0f921\"]],\"type\":\"contour\"}],\"heatmapgl\":[{\"colorbar\":{\"outlinewidth\":0,\"ticks\":\"\"},\"colorscale\":[[0.0,\"#0d0887\"],[0.1111111111111111,\"#46039f\"],[0.2222222222222222,\"#7201a8\"],[0.3333333333333333,\"#9c179e\"],[0.4444444444444444,\"#bd3786\"],[0.5555555555555556,\"#d8576b\"],[0.6666666666666666,\"#ed7953\"],[0.7777777777777778,\"#fb9f3a\"],[0.8888888888888888,\"#fdca26\"],[1.0,\"#f0f921\"]],\"type\":\"heatmapgl\"}],\"heatmap\":[{\"colorbar\":{\"outlinewidth\":0,\"ticks\":\"\"},\"colorscale\":[[0.0,\"#0d0887\"],[0.1111111111111111,\"#46039f\"],[0.2222222222222222,\"#7201a8\"],[0.3333333333333333,\"#9c179e\"],[0.4444444444444444,\"#bd3786\"],[0.5555555555555556,\"#d8576b\"],[0.6666666666666666,\"#ed7953\"],[0.7777777777777778,\"#fb9f3a\"],[0.8888888888888888,\"#fdca26\"],[1.0,\"#f0f921\"]],\"type\":\"heatmap\"}],\"histogram2dcontour\":[{\"colorbar\":{\"outlinewidth\":0,\"ticks\":\"\"},\"colorscale\":[[0.0,\"#0d0887\"],[0.1111111111111111,\"#46039f\"],[0.2222222222222222,\"#7201a8\"],[0.3333333333333333,\"#9c179e\"],[0.4444444444444444,\"#bd3786\"],[0.5555555555555556,\"#d8576b\"],[0.6666666666666666,\"#ed7953\"],[0.7777777777777778,\"#fb9f3a\"],[0.8888888888888888,\"#fdca26\"],[1.0,\"#f0f921\"]],\"type\":\"histogram2dcontour\"}],\"histogram2d\":[{\"colorbar\":{\"outlinewidth\":0,\"ticks\":\"\"},\"colorscale\":[[0.0,\"#0d0887\"],[0.1111111111111111,\"#46039f\"],[0.2222222222222222,\"#7201a8\"],[0.3333333333333333,\"#9c179e\"],[0.4444444444444444,\"#bd3786\"],[0.5555555555555556,\"#d8576b\"],[0.6666666666666666,\"#ed7953\"],[0.7777777777777778,\"#fb9f3a\"],[0.8888888888888888,\"#fdca26\"],[1.0,\"#f0f921\"]],\"type\":\"histogram2d\"}],\"histogram\":[{\"marker\":{\"pattern\":{\"fillmode\":\"overlay\",\"size\":10,\"solidity\":0.2}},\"type\":\"histogram\"}],\"mesh3d\":[{\"colorbar\":{\"outlinewidth\":0,\"ticks\":\"\"},\"type\":\"mesh3d\"}],\"parcoords\":[{\"line\":{\"colorbar\":{\"outlinewidth\":0,\"ticks\":\"\"}},\"type\":\"parcoords\"}],\"pie\":[{\"automargin\":true,\"type\":\"pie\"}],\"scatter3d\":[{\"line\":{\"colorbar\":{\"outlinewidth\":0,\"ticks\":\"\"}},\"marker\":{\"colorbar\":{\"outlinewidth\":0,\"ticks\":\"\"}},\"type\":\"scatter3d\"}],\"scattercarpet\":[{\"marker\":{\"colorbar\":{\"outlinewidth\":0,\"ticks\":\"\"}},\"type\":\"scattercarpet\"}],\"scattergeo\":[{\"marker\":{\"colorbar\":{\"outlinewidth\":0,\"ticks\":\"\"}},\"type\":\"scattergeo\"}],\"scattergl\":[{\"marker\":{\"colorbar\":{\"outlinewidth\":0,\"ticks\":\"\"}},\"type\":\"scattergl\"}],\"scattermapbox\":[{\"marker\":{\"colorbar\":{\"outlinewidth\":0,\"ticks\":\"\"}},\"type\":\"scattermapbox\"}],\"scatterpolargl\":[{\"marker\":{\"colorbar\":{\"outlinewidth\":0,\"ticks\":\"\"}},\"type\":\"scatterpolargl\"}],\"scatterpolar\":[{\"marker\":{\"colorbar\":{\"outlinewidth\":0,\"ticks\":\"\"}},\"type\":\"scatterpolar\"}],\"scatter\":[{\"fillpattern\":{\"fillmode\":\"overlay\",\"size\":10,\"solidity\":0.2},\"type\":\"scatter\"}],\"scatterternary\":[{\"marker\":{\"colorbar\":{\"outlinewidth\":0,\"ticks\":\"\"}},\"type\":\"scatterternary\"}],\"surface\":[{\"colorbar\":{\"outlinewidth\":0,\"ticks\":\"\"},\"colorscale\":[[0.0,\"#0d0887\"],[0.1111111111111111,\"#46039f\"],[0.2222222222222222,\"#7201a8\"],[0.3333333333333333,\"#9c179e\"],[0.4444444444444444,\"#bd3786\"],[0.5555555555555556,\"#d8576b\"],[0.6666666666666666,\"#ed7953\"],[0.7777777777777778,\"#fb9f3a\"],[0.8888888888888888,\"#fdca26\"],[1.0,\"#f0f921\"]],\"type\":\"surface\"}],\"table\":[{\"cells\":{\"fill\":{\"color\":\"#EBF0F8\"},\"line\":{\"color\":\"white\"}},\"header\":{\"fill\":{\"color\":\"#C8D4E3\"},\"line\":{\"color\":\"white\"}},\"type\":\"table\"}]},\"layout\":{\"annotationdefaults\":{\"arrowcolor\":\"#2a3f5f\",\"arrowhead\":0,\"arrowwidth\":1},\"autotypenumbers\":\"strict\",\"coloraxis\":{\"colorbar\":{\"outlinewidth\":0,\"ticks\":\"\"}},\"colorscale\":{\"diverging\":[[0,\"#8e0152\"],[0.1,\"#c51b7d\"],[0.2,\"#de77ae\"],[0.3,\"#f1b6da\"],[0.4,\"#fde0ef\"],[0.5,\"#f7f7f7\"],[0.6,\"#e6f5d0\"],[0.7,\"#b8e186\"],[0.8,\"#7fbc41\"],[0.9,\"#4d9221\"],[1,\"#276419\"]],\"sequential\":[[0.0,\"#0d0887\"],[0.1111111111111111,\"#46039f\"],[0.2222222222222222,\"#7201a8\"],[0.3333333333333333,\"#9c179e\"],[0.4444444444444444,\"#bd3786\"],[0.5555555555555556,\"#d8576b\"],[0.6666666666666666,\"#ed7953\"],[0.7777777777777778,\"#fb9f3a\"],[0.8888888888888888,\"#fdca26\"],[1.0,\"#f0f921\"]],\"sequentialminus\":[[0.0,\"#0d0887\"],[0.1111111111111111,\"#46039f\"],[0.2222222222222222,\"#7201a8\"],[0.3333333333333333,\"#9c179e\"],[0.4444444444444444,\"#bd3786\"],[0.5555555555555556,\"#d8576b\"],[0.6666666666666666,\"#ed7953\"],[0.7777777777777778,\"#fb9f3a\"],[0.8888888888888888,\"#fdca26\"],[1.0,\"#f0f921\"]]},\"colorway\":[\"#636efa\",\"#EF553B\",\"#00cc96\",\"#ab63fa\",\"#FFA15A\",\"#19d3f3\",\"#FF6692\",\"#B6E880\",\"#FF97FF\",\"#FECB52\"],\"font\":{\"color\":\"#2a3f5f\"},\"geo\":{\"bgcolor\":\"white\",\"lakecolor\":\"white\",\"landcolor\":\"#E5ECF6\",\"showlakes\":true,\"showland\":true,\"subunitcolor\":\"white\"},\"hoverlabel\":{\"align\":\"left\"},\"hovermode\":\"closest\",\"mapbox\":{\"style\":\"light\"},\"paper_bgcolor\":\"white\",\"plot_bgcolor\":\"#E5ECF6\",\"polar\":{\"angularaxis\":{\"gridcolor\":\"white\",\"linecolor\":\"white\",\"ticks\":\"\"},\"bgcolor\":\"#E5ECF6\",\"radialaxis\":{\"gridcolor\":\"white\",\"linecolor\":\"white\",\"ticks\":\"\"}},\"scene\":{\"xaxis\":{\"backgroundcolor\":\"#E5ECF6\",\"gridcolor\":\"white\",\"gridwidth\":2,\"linecolor\":\"white\",\"showbackground\":true,\"ticks\":\"\",\"zerolinecolor\":\"white\"},\"yaxis\":{\"backgroundcolor\":\"#E5ECF6\",\"gridcolor\":\"white\",\"gridwidth\":2,\"linecolor\":\"white\",\"showbackground\":true,\"ticks\":\"\",\"zerolinecolor\":\"white\"},\"zaxis\":{\"backgroundcolor\":\"#E5ECF6\",\"gridcolor\":\"white\",\"gridwidth\":2,\"linecolor\":\"white\",\"showbackground\":true,\"ticks\":\"\",\"zerolinecolor\":\"white\"}},\"shapedefaults\":{\"line\":{\"color\":\"#2a3f5f\"}},\"ternary\":{\"aaxis\":{\"gridcolor\":\"white\",\"linecolor\":\"white\",\"ticks\":\"\"},\"baxis\":{\"gridcolor\":\"white\",\"linecolor\":\"white\",\"ticks\":\"\"},\"bgcolor\":\"#E5ECF6\",\"caxis\":{\"gridcolor\":\"white\",\"linecolor\":\"white\",\"ticks\":\"\"}},\"title\":{\"x\":0.05},\"xaxis\":{\"automargin\":true,\"gridcolor\":\"white\",\"linecolor\":\"white\",\"ticks\":\"\",\"title\":{\"standoff\":15},\"zerolinecolor\":\"white\",\"zerolinewidth\":2},\"yaxis\":{\"automargin\":true,\"gridcolor\":\"white\",\"linecolor\":\"white\",\"ticks\":\"\",\"title\":{\"standoff\":15},\"zerolinecolor\":\"white\",\"zerolinewidth\":2}}},\"title\":{\"text\":\"Investors in start up companies\"},\"width\":1900,\"xaxis\":{\"title\":{\"text\":\"companies\"}},\"yaxis\":{\"title\":{\"text\":\"No of investors\"}}},                        {\"responsive\": true}                    ).then(function(){\n",
       "                            \n",
       "var gd = document.getElementById('d323424e-0398-4d22-9004-f0f3957b84cc');\n",
       "var x = new MutationObserver(function (mutations, observer) {{\n",
       "        var display = window.getComputedStyle(gd).display;\n",
       "        if (!display || display === 'none') {{\n",
       "            console.log([gd, 'removed!']);\n",
       "            Plotly.purge(gd);\n",
       "            observer.disconnect();\n",
       "        }}\n",
       "}});\n",
       "\n",
       "// Listen for the removal of the full notebook cells\n",
       "var notebookContainer = gd.closest('#notebook-container');\n",
       "if (notebookContainer) {{\n",
       "    x.observe(notebookContainer, {childList: true});\n",
       "}}\n",
       "\n",
       "// Listen for the clearing of the current output cell\n",
       "var outputEl = gd.closest('.output');\n",
       "if (outputEl) {{\n",
       "    x.observe(outputEl, {childList: true});\n",
       "}}\n",
       "\n",
       "                        })                };                });            </script>        </div>"
      ]
     },
     "metadata": {},
     "output_type": "display_data"
    }
   ],
   "source": [
    "trace=go.Scatter(x=investmentsort[\"Company\"],\n",
    "                y=investmentsort[\"No of investors\"],\n",
    "                name=\"No of investors in start up companies\",\n",
    "                line=dict(color=\"black\"),\n",
    "                opacity=0.6)\n",
    "layout=dict(title=\"Investors in start up companies\",\n",
    "             width=1900,\n",
    "             height=410,\n",
    "             xaxis_title=\"companies\",\n",
    "             yaxis_title=\"No of investors\",\n",
    "             legend=dict(\n",
    "                  yanchor=\"top\",\n",
    "                  y=0.99,\n",
    "                  xanchor=\"left\",\n",
    "                  x=0.01)\n",
    "           )\n",
    "fig=dict(data=[trace],\n",
    "        layout=layout)\n",
    "iplot(fig)"
   ]
  },
  {
   "cell_type": "markdown",
   "id": "ee7f662d",
   "metadata": {},
   "source": [
    "# 2.5 which city gives more no of investors"
   ]
  },
  {
   "cell_type": "code",
   "execution_count": 408,
   "id": "ffaac054",
   "metadata": {},
   "outputs": [
    {
     "data": {
      "text/html": [
       "<div>\n",
       "<style scoped>\n",
       "    .dataframe tbody tr th:only-of-type {\n",
       "        vertical-align: middle;\n",
       "    }\n",
       "\n",
       "    .dataframe tbody tr th {\n",
       "        vertical-align: top;\n",
       "    }\n",
       "\n",
       "    .dataframe thead th {\n",
       "        text-align: right;\n",
       "    }\n",
       "</style>\n",
       "<table border=\"1\" class=\"dataframe\">\n",
       "  <thead>\n",
       "    <tr style=\"text-align: right;\">\n",
       "      <th></th>\n",
       "      <th>No of investors</th>\n",
       "    </tr>\n",
       "    <tr>\n",
       "      <th>Cities</th>\n",
       "      <th></th>\n",
       "    </tr>\n",
       "  </thead>\n",
       "  <tbody>\n",
       "    <tr>\n",
       "      <th>Kormangala</th>\n",
       "      <td>45</td>\n",
       "    </tr>\n",
       "    <tr>\n",
       "      <th>Bengaluru</th>\n",
       "      <td>38</td>\n",
       "    </tr>\n",
       "    <tr>\n",
       "      <th>Mumbai</th>\n",
       "      <td>35</td>\n",
       "    </tr>\n",
       "    <tr>\n",
       "      <th>Gurgaon</th>\n",
       "      <td>26</td>\n",
       "    </tr>\n",
       "    <tr>\n",
       "      <th>Noida</th>\n",
       "      <td>20</td>\n",
       "    </tr>\n",
       "    <tr>\n",
       "      <th>Ahmedabad</th>\n",
       "      <td>19</td>\n",
       "    </tr>\n",
       "    <tr>\n",
       "      <th>Pune</th>\n",
       "      <td>19</td>\n",
       "    </tr>\n",
       "    <tr>\n",
       "      <th>Haryana</th>\n",
       "      <td>18</td>\n",
       "    </tr>\n",
       "    <tr>\n",
       "      <th>Chennai</th>\n",
       "      <td>17</td>\n",
       "    </tr>\n",
       "    <tr>\n",
       "      <th>Delhi</th>\n",
       "      <td>17</td>\n",
       "    </tr>\n",
       "    <tr>\n",
       "      <th></th>\n",
       "      <td>16</td>\n",
       "    </tr>\n",
       "    <tr>\n",
       "      <th>Hyderabad</th>\n",
       "      <td>13</td>\n",
       "    </tr>\n",
       "    <tr>\n",
       "      <th>City</th>\n",
       "      <td>8</td>\n",
       "    </tr>\n",
       "    <tr>\n",
       "      <th>Thane</th>\n",
       "      <td>8</td>\n",
       "    </tr>\n",
       "    <tr>\n",
       "      <th>Whitefield</th>\n",
       "      <td>8</td>\n",
       "    </tr>\n",
       "    <tr>\n",
       "      <th>Kilpauk</th>\n",
       "      <td>6</td>\n",
       "    </tr>\n",
       "    <tr>\n",
       "      <th>Kolkata</th>\n",
       "      <td>6</td>\n",
       "    </tr>\n",
       "    <tr>\n",
       "      <th>Faridabad</th>\n",
       "      <td>6</td>\n",
       "    </tr>\n",
       "    <tr>\n",
       "      <th>Andheri</th>\n",
       "      <td>3</td>\n",
       "    </tr>\n",
       "    <tr>\n",
       "      <th>Azadpur</th>\n",
       "      <td>1</td>\n",
       "    </tr>\n",
       "    <tr>\n",
       "      <th>Nungambakkam</th>\n",
       "      <td>1</td>\n",
       "    </tr>\n",
       "  </tbody>\n",
       "</table>\n",
       "</div>"
      ],
      "text/plain": [
       "               No of investors\n",
       "Cities                        \n",
       " Kormangala                 45\n",
       " Bengaluru                  38\n",
       " Mumbai                     35\n",
       " Gurgaon                    26\n",
       " Noida                      20\n",
       " Ahmedabad                  19\n",
       " Pune                       19\n",
       " Haryana                    18\n",
       " Chennai                    17\n",
       " Delhi                      17\n",
       "                            16\n",
       " Hyderabad                  13\n",
       " City                        8\n",
       " Thane                       8\n",
       " Whitefield                  8\n",
       " Kilpauk                     6\n",
       " Kolkata                     6\n",
       " Faridabad                   6\n",
       " Andheri                     3\n",
       " Azadpur                     1\n",
       " Nungambakkam                1"
      ]
     },
     "execution_count": 408,
     "metadata": {},
     "output_type": "execute_result"
    }
   ],
   "source": [
    "xx=pd.pivot_table(data,values=\"No of investors\",index=\"Cities\",aggfunc=max)\n",
    "bb=xx.sort_values(by=\"No of investors\",ascending=False)\n",
    "bb"
   ]
  },
  {
   "cell_type": "code",
   "execution_count": 423,
   "id": "7a33fca6",
   "metadata": {},
   "outputs": [
    {
     "data": {
      "text/plain": [
       "Text(0.5, 1.0, 'cities more no of investors')"
      ]
     },
     "execution_count": 423,
     "metadata": {},
     "output_type": "execute_result"
    },
    {
     "data": {
      "image/png": "[encoded data removed]",
      "text/plain": [
       "<Figure size 640x480 with 1 Axes>"
      ]
     },
     "metadata": {},
     "output_type": "display_data"
    }
   ],
   "source": [
    "bvb=bb.plot(kind=\"bar\")\n",
    "bvb.set_ylabel(\"no of investors\")\n",
    "bvb.set_title(\"cities more no of investors\")"
   ]
  },
  {
   "cell_type": "markdown",
   "id": "2ac232dc",
   "metadata": {},
   "source": [
    "# 3.Multivariant Analysis"
   ]
  },
  {
   "cell_type": "code",
   "execution_count": null,
   "id": "f610ab38",
   "metadata": {},
   "outputs": [],
   "source": []
  },
  {
   "cell_type": "markdown",
   "id": "f9d2315a",
   "metadata": {},
   "source": [
    "Finding the corellation between completed data"
   ]
  },
  {
   "cell_type": "code",
   "execution_count": 410,
   "id": "ea369343",
   "metadata": {},
   "outputs": [
    {
     "data": {
      "text/html": [
       "<div>\n",
       "<style scoped>\n",
       "    .dataframe tbody tr th:only-of-type {\n",
       "        vertical-align: middle;\n",
       "    }\n",
       "\n",
       "    .dataframe tbody tr th {\n",
       "        vertical-align: top;\n",
       "    }\n",
       "\n",
       "    .dataframe thead th {\n",
       "        text-align: right;\n",
       "    }\n",
       "</style>\n",
       "<table border=\"1\" class=\"dataframe\">\n",
       "  <thead>\n",
       "    <tr style=\"text-align: right;\">\n",
       "      <th></th>\n",
       "      <th>Year of starting</th>\n",
       "      <th>Funding amount</th>\n",
       "      <th>Funding rounds</th>\n",
       "      <th>No of investors</th>\n",
       "      <th>No of Founders</th>\n",
       "      <th>Minimum no of employees</th>\n",
       "      <th>Maximum no of employees</th>\n",
       "    </tr>\n",
       "  </thead>\n",
       "  <tbody>\n",
       "    <tr>\n",
       "      <th>Year of starting</th>\n",
       "      <td>1.000000</td>\n",
       "      <td>-0.050284</td>\n",
       "      <td>-0.175075</td>\n",
       "      <td>0.037230</td>\n",
       "      <td>0.146488</td>\n",
       "      <td>-0.053399</td>\n",
       "      <td>-0.021705</td>\n",
       "    </tr>\n",
       "    <tr>\n",
       "      <th>Funding amount</th>\n",
       "      <td>-0.050284</td>\n",
       "      <td>1.000000</td>\n",
       "      <td>0.074495</td>\n",
       "      <td>0.158478</td>\n",
       "      <td>-0.000927</td>\n",
       "      <td>-0.049090</td>\n",
       "      <td>-0.005960</td>\n",
       "    </tr>\n",
       "    <tr>\n",
       "      <th>Funding rounds</th>\n",
       "      <td>-0.175075</td>\n",
       "      <td>0.074495</td>\n",
       "      <td>1.000000</td>\n",
       "      <td>0.541502</td>\n",
       "      <td>0.029532</td>\n",
       "      <td>0.144945</td>\n",
       "      <td>0.132900</td>\n",
       "    </tr>\n",
       "    <tr>\n",
       "      <th>No of investors</th>\n",
       "      <td>0.037230</td>\n",
       "      <td>0.158478</td>\n",
       "      <td>0.541502</td>\n",
       "      <td>1.000000</td>\n",
       "      <td>0.120916</td>\n",
       "      <td>0.107971</td>\n",
       "      <td>0.084671</td>\n",
       "    </tr>\n",
       "    <tr>\n",
       "      <th>No of Founders</th>\n",
       "      <td>0.146488</td>\n",
       "      <td>-0.000927</td>\n",
       "      <td>0.029532</td>\n",
       "      <td>0.120916</td>\n",
       "      <td>1.000000</td>\n",
       "      <td>0.003546</td>\n",
       "      <td>0.011639</td>\n",
       "    </tr>\n",
       "    <tr>\n",
       "      <th>Minimum no of employees</th>\n",
       "      <td>-0.053399</td>\n",
       "      <td>-0.049090</td>\n",
       "      <td>0.144945</td>\n",
       "      <td>0.107971</td>\n",
       "      <td>0.003546</td>\n",
       "      <td>1.000000</td>\n",
       "      <td>0.885102</td>\n",
       "    </tr>\n",
       "    <tr>\n",
       "      <th>Maximum no of employees</th>\n",
       "      <td>-0.021705</td>\n",
       "      <td>-0.005960</td>\n",
       "      <td>0.132900</td>\n",
       "      <td>0.084671</td>\n",
       "      <td>0.011639</td>\n",
       "      <td>0.885102</td>\n",
       "      <td>1.000000</td>\n",
       "    </tr>\n",
       "  </tbody>\n",
       "</table>\n",
       "</div>"
      ],
      "text/plain": [
       "                         Year of starting  Funding amount  Funding rounds  \\\n",
       "Year of starting                 1.000000       -0.050284       -0.175075   \n",
       "Funding amount                  -0.050284        1.000000        0.074495   \n",
       "Funding rounds                  -0.175075        0.074495        1.000000   \n",
       "No of investors                  0.037230        0.158478        0.541502   \n",
       "No of Founders                   0.146488       -0.000927        0.029532   \n",
       "Minimum no of employees         -0.053399       -0.049090        0.144945   \n",
       "Maximum no of employees         -0.021705       -0.005960        0.132900   \n",
       "\n",
       "                         No of investors  No of Founders  \\\n",
       "Year of starting                0.037230        0.146488   \n",
       "Funding amount                  0.158478       -0.000927   \n",
       "Funding rounds                  0.541502        0.029532   \n",
       "No of investors                 1.000000        0.120916   \n",
       "No of Founders                  0.120916        1.000000   \n",
       "Minimum no of employees         0.107971        0.003546   \n",
       "Maximum no of employees         0.084671        0.011639   \n",
       "\n",
       "                         Minimum no of employees  Maximum no of employees  \n",
       "Year of starting                       -0.053399                -0.021705  \n",
       "Funding amount                         -0.049090                -0.005960  \n",
       "Funding rounds                          0.144945                 0.132900  \n",
       "No of investors                         0.107971                 0.084671  \n",
       "No of Founders                          0.003546                 0.011639  \n",
       "Minimum no of employees                 1.000000                 0.885102  \n",
       "Maximum no of employees                 0.885102                 1.000000  "
      ]
     },
     "execution_count": 410,
     "metadata": {},
     "output_type": "execute_result"
    }
   ],
   "source": [
    "data.corr()"
   ]
  },
  {
   "cell_type": "code",
   "execution_count": null,
   "id": "c413543d",
   "metadata": {},
   "outputs": [],
   "source": []
  },
  {
   "cell_type": "code",
   "execution_count": 411,
   "id": "0d4248e0",
   "metadata": {},
   "outputs": [
    {
     "data": {
      "text/plain": [
       "<AxesSubplot:>"
      ]
     },
     "execution_count": 411,
     "metadata": {},
     "output_type": "execute_result"
    },
    {
     "data": {
      "image/png": "[encoded data removed]",
      "text/plain": [
       "<Figure size 640x480 with 2 Axes>"
      ]
     },
     "metadata": {},
     "output_type": "display_data"
    }
   ],
   "source": [
    "sns.heatmap(data.corr(),annot=True)"
   ]
  },
  {
   "cell_type": "code",
   "execution_count": null,
   "id": "7d8fe3a3",
   "metadata": {},
   "outputs": [],
   "source": []
  }
 ],
 "metadata": {
  "kernelspec": {
   "display_name": "Python 3 (ipykernel)",
   "language": "python",
   "name": "python3"
  },
  "language_info": {
   "codemirror_mode": {
    "name": "ipython",
    "version": 3
   },
   "file_extension": ".py",
   "mimetype": "text/x-python",
   "name": "python",
   "nbconvert_exporter": "python",
   "pygments_lexer": "ipython3",
   "version": "3.9.13"
  }
 },
 "nbformat": 4,
 "nbformat_minor": 5
}
